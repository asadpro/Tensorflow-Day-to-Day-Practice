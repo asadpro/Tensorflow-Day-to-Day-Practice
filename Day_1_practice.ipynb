{
  "nbformat": 4,
  "nbformat_minor": 0,
  "metadata": {
    "colab": {
      "name": "Day_1_practice.ipynb",
      "provenance": [],
      "collapsed_sections": []
    },
    "kernelspec": {
      "name": "python3",
      "display_name": "Python 3"
    },
    "language_info": {
      "name": "python"
    }
  },
  "cells": [
    {
      "cell_type": "markdown",
      "source": [
        "# 01. Neural Network Regression with TensorFlow\n",
        "\n",
        "There are many definitions for a [regression problem](https://en.wikipedia.org/wiki/Regression_analysis) but in our case, we're going to simplify it to be: predicting a number.\n",
        "\n",
        "For example, you might want to:\n",
        "- Predict the selling price of houses given information about them (such as number of rooms, size, number of bathrooms).\n",
        "- Predict the coordinates of a bounding box of an item in an image.\n",
        "- Predict the cost of medical insurance for an individual given their demographics (age, sex, gender, race).\n",
        "\n",
        "In this notebook, we're going to set the foundations for how you can take a sample of inputs (this is your data), build a neural network to discover patterns in those inputs and then make a prediction (in the form of a number) based on those inputs.\n",
        "\n",
        "## What we're going to cover\n",
        "\n",
        "Specifically, we're going to go through doing the following with TensorFlow:\n",
        "- Architecture of a regression model\n",
        "- Input shapes and output shapes\n",
        "  - `X`: features/data (inputs)\n",
        "  - `y`: labels (outputs)\n",
        "- Creating custom data to view and fit\n",
        "- Steps in modelling\n",
        "  - Creating a model\n",
        "  - Compiling a model\n",
        "    - Defining a loss function\n",
        "    - Setting up an optimizer\n",
        "    - Creating evaluation metrics\n",
        "  - Fitting a model (getting it to find patterns in our data)\n",
        "- Evaluating a model\n",
        "  - Visualizng the model (\"visualize, visualize, visualize\")\n",
        "  - Looking at training curves\n",
        "  - Compare predictions to ground truth (using our evaluation metrics)\n",
        "- Saving a model (so we can use it later)\n",
        "- Loading a model\n",
        "\n",
        "Don't worry if none of these make sense now, we're going to go through each.\n",
        "\n",
        "## How you can use this notebook\n",
        "\n",
        "You can read through the descriptions and the code (it should all run), but there's a better option.\n",
        "\n",
        "Write all of the code yourself.\n",
        "\n",
        "Yes. I'm serious. Create a new notebook, and rewrite each line by yourself. Investigate it, see if you can break it, why does it break?\n",
        "\n",
        "You don't have to write the text descriptions but writing the code yourself is a great way to get hands-on experience.\n",
        "\n",
        "Don't worry if you make mistakes, we all do. The way to get better and make less mistakes is to **write more code**."
      ],
      "metadata": {
        "id": "v4m8iLrCQK8t"
      }
    },
    {
      "cell_type": "code",
      "source": [
        "import tensorflow as tf\n",
        "print(tf.__version__)"
      ],
      "metadata": {
        "id": "VGgRd2pnQcs1",
        "colab": {
          "base_uri": "https://localhost:8080/"
        },
        "outputId": "67945cef-73e1-4ca9-d8f0-006707bd38b7"
      },
      "execution_count": null,
      "outputs": [
        {
          "output_type": "stream",
          "name": "stdout",
          "text": [
            "2.8.0\n"
          ]
        }
      ]
    },
    {
      "cell_type": "markdown",
      "source": [
        "### Create data to view and fit"
      ],
      "metadata": {
        "id": "DPEDaqvv8R8s"
      }
    },
    {
      "cell_type": "code",
      "source": [
        "import numpy as np\n",
        "import matplotlib.pyplot as plt\n",
        "\n",
        "# Create features\n",
        "x = tf.constant(np.array([-7.0, -4.0, -1.0, 2.0, 5.0, 8.0, 11.0, 14.0]))\n",
        "\n",
        "# Create labels\n",
        "y = tf.constant(np.array([3.0, 6.0, 9.0, 12.0, 15.0, 18.0, 21.0, 24.0]))\n",
        "plt.scatter(x,y) \n",
        "x_new =tf.expand_dims(x,axis =0)\n",
        "y_new =tf.expand_dims(y,axis =0)\n",
        "y_new.ndim,x_new.ndim\n",
        "\n"
      ],
      "metadata": {
        "id": "-ZzdKTz38WLD",
        "colab": {
          "base_uri": "https://localhost:8080/",
          "height": 286
        },
        "outputId": "b5487cf2-5d22-46c9-ae85-59de1a3e62bb"
      },
      "execution_count": null,
      "outputs": [
        {
          "output_type": "execute_result",
          "data": {
            "text/plain": [
              "(2, 2)"
            ]
          },
          "metadata": {},
          "execution_count": 2
        },
        {
          "output_type": "display_data",
          "data": {
            "text/plain": [
              "<Figure size 432x288 with 1 Axes>"
            ],
            "image/png": "[encoded data removed]"
          },
          "metadata": {
            "needs_background": "light"
          }
        }
      ]
    },
    {
      "cell_type": "code",
      "source": [
        "y == x+10"
      ],
      "metadata": {
        "id": "Ib1Www8D_uaG",
        "colab": {
          "base_uri": "https://localhost:8080/"
        },
        "outputId": "083d2bb5-19d9-4998-a207-96f331f71ae2"
      },
      "execution_count": null,
      "outputs": [
        {
          "output_type": "execute_result",
          "data": {
            "text/plain": [
              "<tf.Tensor: shape=(8,), dtype=bool, numpy=array([ True,  True,  True,  True,  True,  True,  True,  True])>"
            ]
          },
          "metadata": {},
          "execution_count": 3
        }
      ]
    },
    {
      "cell_type": "markdown",
      "source": [
        "### Input and Output shapes"
      ],
      "metadata": {
        "id": "FgW0ztjSAIeu"
      }
    },
    {
      "cell_type": "code",
      "source": [
        "# Create a demo tensor for our housing price prediction problem\n",
        "house_info = tf.constant(['bedroom','bathroom','garage'])\n",
        "house_price = tf.constant([939700])\n",
        "house_info.shape, house_price.shape"
      ],
      "metadata": {
        "id": "EpDFKBZxAMrr",
        "colab": {
          "base_uri": "https://localhost:8080/"
        },
        "outputId": "05f42f2b-2172-423d-9da0-c29f7d5d9d86"
      },
      "execution_count": null,
      "outputs": [
        {
          "output_type": "execute_result",
          "data": {
            "text/plain": [
              "(TensorShape([3]), TensorShape([1]))"
            ]
          },
          "metadata": {},
          "execution_count": 4
        }
      ]
    },
    {
      "cell_type": "markdown",
      "source": [
        "### Steps in modeling Tensorflow model\n",
        "1. **Creating a model** - define the input and output layers, as well as the hidden layers of a deep learning model.\n",
        "2. **Compiling a model** - defining how a models performance should be measured (loss/metrics) as well as defining how it should improve (optimizer).\n",
        "3. **Fitting a model** - letting the model try to find patterns in the data (how does X get to y)."
      ],
      "metadata": {
        "id": "mG1LjGk-CRnH"
      }
    },
    {
      "cell_type": "code",
      "source": [
        "# Creating a model\n",
        "model_v1 = tf.keras.Sequential()\n",
        "model_v1.add(tf.keras.layers.Dense(1))\n",
        "\n",
        "# compiling the model_v1\n",
        "model_v1.compile(loss=tf.keras.losses.mae,optimizer=tf.keras.optimizers.SGD(),metrics=['mae'])\n",
        "\n",
        "# Fit the model_v1\n",
        "\n",
        "model_v1.fit(x_new,y_new,epochs = 5)"
      ],
      "metadata": {
        "id": "mitK2LFnESU1",
        "colab": {
          "base_uri": "https://localhost:8080/"
        },
        "outputId": "9cf56cbe-534a-4e54-bce0-158bd90aaa4f"
      },
      "execution_count": null,
      "outputs": [
        {
          "output_type": "stream",
          "name": "stdout",
          "text": [
            "Epoch 1/5\n",
            "1/1 [==============================] - 0s 452ms/step - loss: 16.6681 - mae: 16.6681\n",
            "Epoch 2/5\n",
            "1/1 [==============================] - 0s 7ms/step - loss: 11.8981 - mae: 11.8981\n",
            "Epoch 3/5\n",
            "1/1 [==============================] - 0s 7ms/step - loss: 8.0641 - mae: 8.0641\n",
            "Epoch 4/5\n",
            "1/1 [==============================] - 0s 8ms/step - loss: 6.8716 - mae: 6.8716\n",
            "Epoch 5/5\n",
            "1/1 [==============================] - 0s 7ms/step - loss: 6.2145 - mae: 6.2145\n"
          ]
        },
        {
          "output_type": "execute_result",
          "data": {
            "text/plain": [
              "<keras.callbacks.History at 0x7f017beb2cd0>"
            ]
          },
          "metadata": {},
          "execution_count": 5
        }
      ]
    },
    {
      "cell_type": "code",
      "source": [
        "x,y"
      ],
      "metadata": {
        "id": "axik_Ak8koW1",
        "colab": {
          "base_uri": "https://localhost:8080/"
        },
        "outputId": "3270c3cb-1de6-42e3-c811-b4e2d369fa88"
      },
      "execution_count": null,
      "outputs": [
        {
          "output_type": "execute_result",
          "data": {
            "text/plain": [
              "(<tf.Tensor: shape=(8,), dtype=float64, numpy=array([-7., -4., -1.,  2.,  5.,  8., 11., 14.])>,\n",
              " <tf.Tensor: shape=(8,), dtype=float64, numpy=array([ 3.,  6.,  9., 12., 15., 18., 21., 24.])>)"
            ]
          },
          "metadata": {},
          "execution_count": 6
        }
      ]
    },
    {
      "cell_type": "code",
      "source": [
        "pred = tf.constant([14],shape=(1,8),)"
      ],
      "metadata": {
        "id": "FqPUIrzpLPeD"
      },
      "execution_count": null,
      "outputs": []
    },
    {
      "cell_type": "markdown",
      "source": [
        "### Improving our model"
      ],
      "metadata": {
        "id": "PFYPvHOVNE4K"
      }
    },
    {
      "cell_type": "markdown",
      "source": [
        ""
      ],
      "metadata": {
        "id": "IF8viscUlC7E"
      }
    },
    {
      "cell_type": "code",
      "source": [
        "# Creating a model\n",
        "model_v2 = tf.keras.Sequential()\n",
        "model_v2.add(tf.keras.layers.Dense(100,activation='relu'))\n",
        "model_v2.add(tf.keras.layers.Dense(100,activation='relu'))\n",
        "model_v2.add(tf.keras.layers.Dense(1))\n",
        "\n",
        "# compiling the model_v2\n",
        "model_v2.compile(loss=tf.keras.losses.mae,optimizer=tf.keras.optimizers.SGD(),metrics=['mae'])\n",
        "\n",
        "# Fit the model_v2\n",
        "\n",
        "model_v2.fit(x_new,y_new,epochs = 100)"
      ],
      "metadata": {
        "id": "cezpK93jdeNy",
        "colab": {
          "base_uri": "https://localhost:8080/"
        },
        "outputId": "97629d23-4f30-4027-ec0f-44123d68fdd9"
      },
      "execution_count": null,
      "outputs": [
        {
          "output_type": "stream",
          "name": "stdout",
          "text": [
            "Epoch 1/100\n",
            "1/1 [==============================] - 1s 621ms/step - loss: 15.8321 - mae: 15.8321\n",
            "Epoch 2/100\n",
            "1/1 [==============================] - 0s 15ms/step - loss: 7.4040 - mae: 7.4040\n",
            "Epoch 3/100\n",
            "1/1 [==============================] - 0s 7ms/step - loss: 6.0000 - mae: 6.0000\n",
            "Epoch 4/100\n",
            "1/1 [==============================] - 0s 10ms/step - loss: 6.0000 - mae: 6.0000\n",
            "Epoch 5/100\n",
            "1/1 [==============================] - 0s 9ms/step - loss: 6.0000 - mae: 6.0000\n",
            "Epoch 6/100\n",
            "1/1 [==============================] - 0s 16ms/step - loss: 6.0000 - mae: 6.0000\n",
            "Epoch 7/100\n",
            "1/1 [==============================] - 0s 24ms/step - loss: 6.0000 - mae: 6.0000\n",
            "Epoch 8/100\n",
            "1/1 [==============================] - 0s 19ms/step - loss: 6.0000 - mae: 6.0000\n",
            "Epoch 9/100\n",
            "1/1 [==============================] - 0s 18ms/step - loss: 6.0000 - mae: 6.0000\n",
            "Epoch 10/100\n",
            "1/1 [==============================] - 0s 39ms/step - loss: 6.0000 - mae: 6.0000\n",
            "Epoch 11/100\n",
            "1/1 [==============================] - 0s 27ms/step - loss: 6.0000 - mae: 6.0000\n",
            "Epoch 12/100\n",
            "1/1 [==============================] - 0s 14ms/step - loss: 6.0000 - mae: 6.0000\n",
            "Epoch 13/100\n",
            "1/1 [==============================] - 0s 27ms/step - loss: 6.0000 - mae: 6.0000\n",
            "Epoch 14/100\n",
            "1/1 [==============================] - 0s 16ms/step - loss: 6.0000 - mae: 6.0000\n",
            "Epoch 15/100\n",
            "1/1 [==============================] - 0s 19ms/step - loss: 6.0000 - mae: 6.0000\n",
            "Epoch 16/100\n",
            "1/1 [==============================] - 0s 14ms/step - loss: 6.0000 - mae: 6.0000\n",
            "Epoch 17/100\n",
            "1/1 [==============================] - 0s 13ms/step - loss: 6.0000 - mae: 6.0000\n",
            "Epoch 18/100\n",
            "1/1 [==============================] - 0s 18ms/step - loss: 6.0000 - mae: 6.0000\n",
            "Epoch 19/100\n",
            "1/1 [==============================] - 0s 10ms/step - loss: 6.0000 - mae: 6.0000\n",
            "Epoch 20/100\n",
            "1/1 [==============================] - 0s 10ms/step - loss: 6.0000 - mae: 6.0000\n",
            "Epoch 21/100\n",
            "1/1 [==============================] - 0s 12ms/step - loss: 6.0000 - mae: 6.0000\n",
            "Epoch 22/100\n",
            "1/1 [==============================] - 0s 10ms/step - loss: 6.0000 - mae: 6.0000\n",
            "Epoch 23/100\n",
            "1/1 [==============================] - 0s 8ms/step - loss: 6.0000 - mae: 6.0000\n",
            "Epoch 24/100\n",
            "1/1 [==============================] - 0s 10ms/step - loss: 6.0000 - mae: 6.0000\n",
            "Epoch 25/100\n",
            "1/1 [==============================] - 0s 9ms/step - loss: 6.0000 - mae: 6.0000\n",
            "Epoch 26/100\n",
            "1/1 [==============================] - 0s 11ms/step - loss: 6.0000 - mae: 6.0000\n",
            "Epoch 27/100\n",
            "1/1 [==============================] - 0s 13ms/step - loss: 6.0000 - mae: 6.0000\n",
            "Epoch 28/100\n",
            "1/1 [==============================] - 0s 8ms/step - loss: 6.0000 - mae: 6.0000\n",
            "Epoch 29/100\n",
            "1/1 [==============================] - 0s 14ms/step - loss: 6.0000 - mae: 6.0000\n",
            "Epoch 30/100\n",
            "1/1 [==============================] - 0s 13ms/step - loss: 6.0000 - mae: 6.0000\n",
            "Epoch 31/100\n",
            "1/1 [==============================] - 0s 11ms/step - loss: 6.0000 - mae: 6.0000\n",
            "Epoch 32/100\n",
            "1/1 [==============================] - 0s 9ms/step - loss: 6.0000 - mae: 6.0000\n",
            "Epoch 33/100\n",
            "1/1 [==============================] - 0s 38ms/step - loss: 6.0000 - mae: 6.0000\n",
            "Epoch 34/100\n",
            "1/1 [==============================] - 0s 14ms/step - loss: 6.0000 - mae: 6.0000\n",
            "Epoch 35/100\n",
            "1/1 [==============================] - 0s 12ms/step - loss: 6.0000 - mae: 6.0000\n",
            "Epoch 36/100\n",
            "1/1 [==============================] - 0s 8ms/step - loss: 6.0000 - mae: 6.0000\n",
            "Epoch 37/100\n",
            "1/1 [==============================] - 0s 10ms/step - loss: 6.0000 - mae: 6.0000\n",
            "Epoch 38/100\n",
            "1/1 [==============================] - 0s 13ms/step - loss: 6.0000 - mae: 6.0000\n",
            "Epoch 39/100\n",
            "1/1 [==============================] - 0s 13ms/step - loss: 6.0000 - mae: 6.0000\n",
            "Epoch 40/100\n",
            "1/1 [==============================] - 0s 11ms/step - loss: 6.0000 - mae: 6.0000\n",
            "Epoch 41/100\n",
            "1/1 [==============================] - 0s 21ms/step - loss: 6.0000 - mae: 6.0000\n",
            "Epoch 42/100\n",
            "1/1 [==============================] - 0s 9ms/step - loss: 6.0000 - mae: 6.0000\n",
            "Epoch 43/100\n",
            "1/1 [==============================] - 0s 10ms/step - loss: 6.0000 - mae: 6.0000\n",
            "Epoch 44/100\n",
            "1/1 [==============================] - 0s 9ms/step - loss: 6.0000 - mae: 6.0000\n",
            "Epoch 45/100\n",
            "1/1 [==============================] - 0s 8ms/step - loss: 6.0000 - mae: 6.0000\n",
            "Epoch 46/100\n",
            "1/1 [==============================] - 0s 42ms/step - loss: 6.0000 - mae: 6.0000\n",
            "Epoch 47/100\n",
            "1/1 [==============================] - 0s 24ms/step - loss: 6.0000 - mae: 6.0000\n",
            "Epoch 48/100\n",
            "1/1 [==============================] - 0s 25ms/step - loss: 6.0000 - mae: 6.0000\n",
            "Epoch 49/100\n",
            "1/1 [==============================] - 0s 19ms/step - loss: 6.0000 - mae: 6.0000\n",
            "Epoch 50/100\n",
            "1/1 [==============================] - 0s 21ms/step - loss: 6.0000 - mae: 6.0000\n",
            "Epoch 51/100\n",
            "1/1 [==============================] - 0s 12ms/step - loss: 6.0000 - mae: 6.0000\n",
            "Epoch 52/100\n",
            "1/1 [==============================] - 0s 12ms/step - loss: 6.0000 - mae: 6.0000\n",
            "Epoch 53/100\n",
            "1/1 [==============================] - 0s 12ms/step - loss: 6.0000 - mae: 6.0000\n",
            "Epoch 54/100\n",
            "1/1 [==============================] - 0s 14ms/step - loss: 6.0000 - mae: 6.0000\n",
            "Epoch 55/100\n",
            "1/1 [==============================] - 0s 15ms/step - loss: 6.0000 - mae: 6.0000\n",
            "Epoch 56/100\n",
            "1/1 [==============================] - 0s 14ms/step - loss: 6.0000 - mae: 6.0000\n",
            "Epoch 57/100\n",
            "1/1 [==============================] - 0s 7ms/step - loss: 6.0000 - mae: 6.0000\n",
            "Epoch 58/100\n",
            "1/1 [==============================] - 0s 6ms/step - loss: 6.0000 - mae: 6.0000\n",
            "Epoch 59/100\n",
            "1/1 [==============================] - 0s 6ms/step - loss: 6.0000 - mae: 6.0000\n",
            "Epoch 60/100\n",
            "1/1 [==============================] - 0s 13ms/step - loss: 6.0000 - mae: 6.0000\n",
            "Epoch 61/100\n",
            "1/1 [==============================] - 0s 10ms/step - loss: 6.0000 - mae: 6.0000\n",
            "Epoch 62/100\n",
            "1/1 [==============================] - 0s 9ms/step - loss: 6.0000 - mae: 6.0000\n",
            "Epoch 63/100\n",
            "1/1 [==============================] - 0s 7ms/step - loss: 6.0000 - mae: 6.0000\n",
            "Epoch 64/100\n",
            "1/1 [==============================] - 0s 8ms/step - loss: 6.0000 - mae: 6.0000\n",
            "Epoch 65/100\n",
            "1/1 [==============================] - 0s 13ms/step - loss: 6.0000 - mae: 6.0000\n",
            "Epoch 66/100\n",
            "1/1 [==============================] - 0s 15ms/step - loss: 6.0000 - mae: 6.0000\n",
            "Epoch 67/100\n",
            "1/1 [==============================] - 0s 6ms/step - loss: 6.0000 - mae: 6.0000\n",
            "Epoch 68/100\n",
            "1/1 [==============================] - 0s 10ms/step - loss: 6.0000 - mae: 6.0000\n",
            "Epoch 69/100\n",
            "1/1 [==============================] - 0s 15ms/step - loss: 6.0000 - mae: 6.0000\n",
            "Epoch 70/100\n",
            "1/1 [==============================] - 0s 7ms/step - loss: 6.0000 - mae: 6.0000\n",
            "Epoch 71/100\n",
            "1/1 [==============================] - 0s 18ms/step - loss: 6.0000 - mae: 6.0000\n",
            "Epoch 72/100\n",
            "1/1 [==============================] - 0s 19ms/step - loss: 6.0000 - mae: 6.0000\n",
            "Epoch 73/100\n",
            "1/1 [==============================] - 0s 7ms/step - loss: 6.0000 - mae: 6.0000\n",
            "Epoch 74/100\n",
            "1/1 [==============================] - 0s 11ms/step - loss: 6.0000 - mae: 6.0000\n",
            "Epoch 75/100\n",
            "1/1 [==============================] - 0s 18ms/step - loss: 6.0000 - mae: 6.0000\n",
            "Epoch 76/100\n",
            "1/1 [==============================] - 0s 9ms/step - loss: 6.0000 - mae: 6.0000\n",
            "Epoch 77/100\n",
            "1/1 [==============================] - 0s 13ms/step - loss: 6.0000 - mae: 6.0000\n",
            "Epoch 78/100\n",
            "1/1 [==============================] - 0s 8ms/step - loss: 6.0000 - mae: 6.0000\n",
            "Epoch 79/100\n",
            "1/1 [==============================] - 0s 9ms/step - loss: 6.0000 - mae: 6.0000\n",
            "Epoch 80/100\n",
            "1/1 [==============================] - 0s 8ms/step - loss: 6.0000 - mae: 6.0000\n",
            "Epoch 81/100\n",
            "1/1 [==============================] - 0s 8ms/step - loss: 6.0000 - mae: 6.0000\n",
            "Epoch 82/100\n",
            "1/1 [==============================] - 0s 8ms/step - loss: 6.0000 - mae: 6.0000\n",
            "Epoch 83/100\n",
            "1/1 [==============================] - 0s 6ms/step - loss: 6.0000 - mae: 6.0000\n",
            "Epoch 84/100\n",
            "1/1 [==============================] - 0s 19ms/step - loss: 6.0000 - mae: 6.0000\n",
            "Epoch 85/100\n",
            "1/1 [==============================] - 0s 30ms/step - loss: 6.0000 - mae: 6.0000\n",
            "Epoch 86/100\n",
            "1/1 [==============================] - 0s 7ms/step - loss: 6.0000 - mae: 6.0000\n",
            "Epoch 87/100\n",
            "1/1 [==============================] - 0s 11ms/step - loss: 6.0000 - mae: 6.0000\n",
            "Epoch 88/100\n",
            "1/1 [==============================] - 0s 8ms/step - loss: 6.0000 - mae: 6.0000\n",
            "Epoch 89/100\n",
            "1/1 [==============================] - 0s 8ms/step - loss: 6.0000 - mae: 6.0000\n",
            "Epoch 90/100\n",
            "1/1 [==============================] - 0s 16ms/step - loss: 6.0000 - mae: 6.0000\n",
            "Epoch 91/100\n",
            "1/1 [==============================] - 0s 12ms/step - loss: 6.0000 - mae: 6.0000\n",
            "Epoch 92/100\n",
            "1/1 [==============================] - 0s 11ms/step - loss: 6.0000 - mae: 6.0000\n",
            "Epoch 93/100\n",
            "1/1 [==============================] - 0s 13ms/step - loss: 6.0000 - mae: 6.0000\n",
            "Epoch 94/100\n",
            "1/1 [==============================] - 0s 8ms/step - loss: 6.0000 - mae: 6.0000\n",
            "Epoch 95/100\n",
            "1/1 [==============================] - 0s 8ms/step - loss: 6.0000 - mae: 6.0000\n",
            "Epoch 96/100\n",
            "1/1 [==============================] - 0s 30ms/step - loss: 6.0000 - mae: 6.0000\n",
            "Epoch 97/100\n",
            "1/1 [==============================] - 0s 14ms/step - loss: 6.0000 - mae: 6.0000\n",
            "Epoch 98/100\n",
            "1/1 [==============================] - 0s 9ms/step - loss: 6.0000 - mae: 6.0000\n",
            "Epoch 99/100\n",
            "1/1 [==============================] - 0s 39ms/step - loss: 6.0000 - mae: 6.0000\n",
            "Epoch 100/100\n",
            "1/1 [==============================] - 0s 27ms/step - loss: 6.0000 - mae: 6.0000\n"
          ]
        },
        {
          "output_type": "execute_result",
          "data": {
            "text/plain": [
              "<keras.callbacks.History at 0x7f017bdfe950>"
            ]
          },
          "metadata": {},
          "execution_count": 8
        }
      ]
    },
    {
      "cell_type": "code",
      "source": [
        "# Comparing the result of both small and big model\n",
        "print(f'Small model accuracy: {model_v1.predict(pred)} ')\n",
        "print(f'Big model accuracy: {model_v2.predict(pred)}')\n"
      ],
      "metadata": {
        "id": "8uU3r5CcmxL0",
        "colab": {
          "base_uri": "https://localhost:8080/"
        },
        "outputId": "fff139f5-ed7d-4c73-9d26-6ec5db5b4196"
      },
      "execution_count": null,
      "outputs": [
        {
          "output_type": "stream",
          "name": "stdout",
          "text": [
            "Small model accuracy: [[-15.623142]] \n",
            "Big model accuracy: [[14.427089]]\n"
          ]
        }
      ]
    },
    {
      "cell_type": "markdown",
      "source": [
        "### Improving the model further on my own"
      ],
      "metadata": {
        "id": "tE9PnAwmoHyu"
      }
    },
    {
      "cell_type": "code",
      "source": [
        "\n",
        "# Creating a model\n",
        "model_v3 = tf.keras.Sequential()\n",
        "model_v3.add(tf.keras.layers.Dense(100,activation='relu',))\n",
        "model_v3.add(tf.keras.layers.Dense(100,activation='relu',))\n",
        "model_v3.add(tf.keras.layers.Dense(100,activation='relu',))\n",
        "model_v3.add(tf.keras.layers.Dense(1))\n",
        "\n",
        "# compiling the model_v3\n",
        "model_v3.compile(loss=tf.keras.losses.mae,optimizer=tf.keras.optimizers.Adam(),metrics=['mae'])\n",
        "\n",
        "# Fit the model_v3\n",
        "\n",
        "model_v3.fit(x_new,y_new,epochs = 100)"
      ],
      "metadata": {
        "id": "cwbv-2hYrp_d",
        "colab": {
          "base_uri": "https://localhost:8080/"
        },
        "outputId": "77067f8a-aa10-469b-9736-055787ba96af"
      },
      "execution_count": null,
      "outputs": [
        {
          "output_type": "stream",
          "name": "stdout",
          "text": [
            "Epoch 1/100\n",
            "1/1 [==============================] - 1s 1s/step - loss: 12.9280 - mae: 12.9280\n",
            "Epoch 2/100\n",
            "1/1 [==============================] - 0s 17ms/step - loss: 11.7671 - mae: 11.7671\n",
            "Epoch 3/100\n",
            "1/1 [==============================] - 0s 19ms/step - loss: 10.6965 - mae: 10.6965\n",
            "Epoch 4/100\n",
            "1/1 [==============================] - 0s 15ms/step - loss: 9.8363 - mae: 9.8363\n",
            "Epoch 5/100\n",
            "1/1 [==============================] - 0s 17ms/step - loss: 9.0836 - mae: 9.0836\n",
            "Epoch 6/100\n",
            "1/1 [==============================] - 0s 14ms/step - loss: 8.3592 - mae: 8.3592\n",
            "Epoch 7/100\n",
            "1/1 [==============================] - 0s 14ms/step - loss: 7.8242 - mae: 7.8242\n",
            "Epoch 8/100\n",
            "1/1 [==============================] - 0s 14ms/step - loss: 7.3252 - mae: 7.3252\n",
            "Epoch 9/100\n",
            "1/1 [==============================] - 0s 15ms/step - loss: 6.8249 - mae: 6.8249\n",
            "Epoch 10/100\n",
            "1/1 [==============================] - 0s 19ms/step - loss: 6.5254 - mae: 6.5254\n",
            "Epoch 11/100\n",
            "1/1 [==============================] - 0s 13ms/step - loss: 6.2666 - mae: 6.2666\n",
            "Epoch 12/100\n",
            "1/1 [==============================] - 0s 14ms/step - loss: 6.0067 - mae: 6.0067\n",
            "Epoch 13/100\n",
            "1/1 [==============================] - 0s 15ms/step - loss: 6.0000 - mae: 6.0000\n",
            "Epoch 14/100\n",
            "1/1 [==============================] - 0s 14ms/step - loss: 6.0000 - mae: 6.0000\n",
            "Epoch 15/100\n",
            "1/1 [==============================] - 0s 23ms/step - loss: 6.0000 - mae: 6.0000\n",
            "Epoch 16/100\n",
            "1/1 [==============================] - 0s 9ms/step - loss: 6.2047 - mae: 6.2047\n",
            "Epoch 17/100\n",
            "1/1 [==============================] - 0s 9ms/step - loss: 6.3541 - mae: 6.3541\n",
            "Epoch 18/100\n",
            "1/1 [==============================] - 0s 11ms/step - loss: 6.4478 - mae: 6.4478\n",
            "Epoch 19/100\n",
            "1/1 [==============================] - 0s 29ms/step - loss: 6.4913 - mae: 6.4913\n",
            "Epoch 20/100\n",
            "1/1 [==============================] - 0s 17ms/step - loss: 6.4904 - mae: 6.4904\n",
            "Epoch 21/100\n",
            "1/1 [==============================] - 0s 11ms/step - loss: 6.4508 - mae: 6.4508\n",
            "Epoch 22/100\n",
            "1/1 [==============================] - 0s 22ms/step - loss: 6.3773 - mae: 6.3773\n",
            "Epoch 23/100\n",
            "1/1 [==============================] - 0s 13ms/step - loss: 6.2761 - mae: 6.2761\n",
            "Epoch 24/100\n",
            "1/1 [==============================] - 0s 10ms/step - loss: 6.1524 - mae: 6.1524\n",
            "Epoch 25/100\n",
            "1/1 [==============================] - 0s 13ms/step - loss: 6.0109 - mae: 6.0109\n",
            "Epoch 26/100\n",
            "1/1 [==============================] - 0s 13ms/step - loss: 6.0000 - mae: 6.0000\n",
            "Epoch 27/100\n",
            "1/1 [==============================] - 0s 10ms/step - loss: 6.0000 - mae: 6.0000\n",
            "Epoch 28/100\n",
            "1/1 [==============================] - 0s 11ms/step - loss: 6.0000 - mae: 6.0000\n",
            "Epoch 29/100\n",
            "1/1 [==============================] - 0s 9ms/step - loss: 6.0000 - mae: 6.0000\n",
            "Epoch 30/100\n",
            "1/1 [==============================] - 0s 11ms/step - loss: 6.0000 - mae: 6.0000\n",
            "Epoch 31/100\n",
            "1/1 [==============================] - 0s 11ms/step - loss: 6.0000 - mae: 6.0000\n",
            "Epoch 32/100\n",
            "1/1 [==============================] - 0s 10ms/step - loss: 6.0298 - mae: 6.0298\n",
            "Epoch 33/100\n",
            "1/1 [==============================] - 0s 23ms/step - loss: 6.0724 - mae: 6.0724\n",
            "Epoch 34/100\n",
            "1/1 [==============================] - 0s 21ms/step - loss: 6.0832 - mae: 6.0832\n",
            "Epoch 35/100\n",
            "1/1 [==============================] - 0s 18ms/step - loss: 6.0678 - mae: 6.0678\n",
            "Epoch 36/100\n",
            "1/1 [==============================] - 0s 14ms/step - loss: 6.0283 - mae: 6.0283\n",
            "Epoch 37/100\n",
            "1/1 [==============================] - 0s 19ms/step - loss: 6.0000 - mae: 6.0000\n",
            "Epoch 38/100\n",
            "1/1 [==============================] - 0s 8ms/step - loss: 6.0000 - mae: 6.0000\n",
            "Epoch 39/100\n",
            "1/1 [==============================] - 0s 22ms/step - loss: 6.0000 - mae: 6.0000\n",
            "Epoch 40/100\n",
            "1/1 [==============================] - 0s 19ms/step - loss: 6.0000 - mae: 6.0000\n",
            "Epoch 41/100\n",
            "1/1 [==============================] - 0s 16ms/step - loss: 6.0000 - mae: 6.0000\n",
            "Epoch 42/100\n",
            "1/1 [==============================] - 0s 18ms/step - loss: 6.0000 - mae: 6.0000\n",
            "Epoch 43/100\n",
            "1/1 [==============================] - 0s 10ms/step - loss: 6.0000 - mae: 6.0000\n",
            "Epoch 44/100\n",
            "1/1 [==============================] - 0s 27ms/step - loss: 6.0000 - mae: 6.0000\n",
            "Epoch 45/100\n",
            "1/1 [==============================] - 0s 19ms/step - loss: 6.0000 - mae: 6.0000\n",
            "Epoch 46/100\n",
            "1/1 [==============================] - 0s 13ms/step - loss: 6.0000 - mae: 6.0000\n",
            "Epoch 47/100\n",
            "1/1 [==============================] - 0s 16ms/step - loss: 6.0000 - mae: 6.0000\n",
            "Epoch 48/100\n",
            "1/1 [==============================] - 0s 17ms/step - loss: 6.0000 - mae: 6.0000\n",
            "Epoch 49/100\n",
            "1/1 [==============================] - 0s 30ms/step - loss: 6.0000 - mae: 6.0000\n",
            "Epoch 50/100\n",
            "1/1 [==============================] - 0s 17ms/step - loss: 6.0000 - mae: 6.0000\n",
            "Epoch 51/100\n",
            "1/1 [==============================] - 0s 24ms/step - loss: 6.0000 - mae: 6.0000\n",
            "Epoch 52/100\n",
            "1/1 [==============================] - 0s 21ms/step - loss: 6.0000 - mae: 6.0000\n",
            "Epoch 53/100\n",
            "1/1 [==============================] - 0s 18ms/step - loss: 6.0000 - mae: 6.0000\n",
            "Epoch 54/100\n",
            "1/1 [==============================] - 0s 22ms/step - loss: 6.0000 - mae: 6.0000\n",
            "Epoch 55/100\n",
            "1/1 [==============================] - 0s 17ms/step - loss: 6.0000 - mae: 6.0000\n",
            "Epoch 56/100\n",
            "1/1 [==============================] - 0s 17ms/step - loss: 6.0000 - mae: 6.0000\n",
            "Epoch 57/100\n",
            "1/1 [==============================] - 0s 19ms/step - loss: 6.0000 - mae: 6.0000\n",
            "Epoch 58/100\n",
            "1/1 [==============================] - 0s 20ms/step - loss: 6.0000 - mae: 6.0000\n",
            "Epoch 59/100\n",
            "1/1 [==============================] - 0s 19ms/step - loss: 6.0000 - mae: 6.0000\n",
            "Epoch 60/100\n",
            "1/1 [==============================] - 0s 10ms/step - loss: 6.0000 - mae: 6.0000\n",
            "Epoch 61/100\n",
            "1/1 [==============================] - 0s 12ms/step - loss: 6.0000 - mae: 6.0000\n",
            "Epoch 62/100\n",
            "1/1 [==============================] - 0s 28ms/step - loss: 6.0000 - mae: 6.0000\n",
            "Epoch 63/100\n",
            "1/1 [==============================] - 0s 13ms/step - loss: 6.0000 - mae: 6.0000\n",
            "Epoch 64/100\n",
            "1/1 [==============================] - 0s 18ms/step - loss: 6.0000 - mae: 6.0000\n",
            "Epoch 65/100\n",
            "1/1 [==============================] - 0s 25ms/step - loss: 6.0000 - mae: 6.0000\n",
            "Epoch 66/100\n",
            "1/1 [==============================] - 0s 11ms/step - loss: 6.0000 - mae: 6.0000\n",
            "Epoch 67/100\n",
            "1/1 [==============================] - 0s 30ms/step - loss: 6.0000 - mae: 6.0000\n",
            "Epoch 68/100\n",
            "1/1 [==============================] - 0s 16ms/step - loss: 6.0000 - mae: 6.0000\n",
            "Epoch 69/100\n",
            "1/1 [==============================] - 0s 16ms/step - loss: 6.0000 - mae: 6.0000\n",
            "Epoch 70/100\n",
            "1/1 [==============================] - 0s 8ms/step - loss: 6.0000 - mae: 6.0000\n",
            "Epoch 71/100\n",
            "1/1 [==============================] - 0s 12ms/step - loss: 6.0000 - mae: 6.0000\n",
            "Epoch 72/100\n",
            "1/1 [==============================] - 0s 12ms/step - loss: 6.0000 - mae: 6.0000\n",
            "Epoch 73/100\n",
            "1/1 [==============================] - 0s 12ms/step - loss: 6.0000 - mae: 6.0000\n",
            "Epoch 74/100\n",
            "1/1 [==============================] - 0s 13ms/step - loss: 6.0000 - mae: 6.0000\n",
            "Epoch 75/100\n",
            "1/1 [==============================] - 0s 8ms/step - loss: 6.0000 - mae: 6.0000\n",
            "Epoch 76/100\n",
            "1/1 [==============================] - 0s 30ms/step - loss: 6.0000 - mae: 6.0000\n",
            "Epoch 77/100\n",
            "1/1 [==============================] - 0s 15ms/step - loss: 6.0000 - mae: 6.0000\n",
            "Epoch 78/100\n",
            "1/1 [==============================] - 0s 20ms/step - loss: 6.0000 - mae: 6.0000\n",
            "Epoch 79/100\n",
            "1/1 [==============================] - 0s 39ms/step - loss: 6.0000 - mae: 6.0000\n",
            "Epoch 80/100\n",
            "1/1 [==============================] - 0s 28ms/step - loss: 6.0000 - mae: 6.0000\n",
            "Epoch 81/100\n",
            "1/1 [==============================] - 0s 21ms/step - loss: 6.0000 - mae: 6.0000\n",
            "Epoch 82/100\n",
            "1/1 [==============================] - 0s 26ms/step - loss: 6.0000 - mae: 6.0000\n",
            "Epoch 83/100\n",
            "1/1 [==============================] - 0s 28ms/step - loss: 6.0000 - mae: 6.0000\n",
            "Epoch 84/100\n",
            "1/1 [==============================] - 0s 17ms/step - loss: 6.0000 - mae: 6.0000\n",
            "Epoch 85/100\n",
            "1/1 [==============================] - 0s 27ms/step - loss: 6.0000 - mae: 6.0000\n",
            "Epoch 86/100\n",
            "1/1 [==============================] - 0s 25ms/step - loss: 6.0000 - mae: 6.0000\n",
            "Epoch 87/100\n",
            "1/1 [==============================] - 0s 28ms/step - loss: 6.0000 - mae: 6.0000\n",
            "Epoch 88/100\n",
            "1/1 [==============================] - 0s 19ms/step - loss: 6.0000 - mae: 6.0000\n",
            "Epoch 89/100\n",
            "1/1 [==============================] - 0s 24ms/step - loss: 6.0000 - mae: 6.0000\n",
            "Epoch 90/100\n",
            "1/1 [==============================] - 0s 29ms/step - loss: 6.0000 - mae: 6.0000\n",
            "Epoch 91/100\n",
            "1/1 [==============================] - 0s 14ms/step - loss: 6.0000 - mae: 6.0000\n",
            "Epoch 92/100\n",
            "1/1 [==============================] - 0s 15ms/step - loss: 6.0000 - mae: 6.0000\n",
            "Epoch 93/100\n",
            "1/1 [==============================] - 0s 26ms/step - loss: 6.0000 - mae: 6.0000\n",
            "Epoch 94/100\n",
            "1/1 [==============================] - 0s 13ms/step - loss: 6.0000 - mae: 6.0000\n",
            "Epoch 95/100\n",
            "1/1 [==============================] - 0s 16ms/step - loss: 6.0000 - mae: 6.0000\n",
            "Epoch 96/100\n",
            "1/1 [==============================] - 0s 15ms/step - loss: 6.0000 - mae: 6.0000\n",
            "Epoch 97/100\n",
            "1/1 [==============================] - 0s 13ms/step - loss: 6.0000 - mae: 6.0000\n",
            "Epoch 98/100\n",
            "1/1 [==============================] - 0s 14ms/step - loss: 6.0000 - mae: 6.0000\n",
            "Epoch 99/100\n",
            "1/1 [==============================] - 0s 24ms/step - loss: 6.0000 - mae: 6.0000\n",
            "Epoch 100/100\n",
            "1/1 [==============================] - 0s 16ms/step - loss: 6.0000 - mae: 6.0000\n"
          ]
        },
        {
          "output_type": "execute_result",
          "data": {
            "text/plain": [
              "<keras.callbacks.History at 0x7f017bcdc410>"
            ]
          },
          "metadata": {},
          "execution_count": 10
        }
      ]
    },
    {
      "cell_type": "code",
      "source": [
        "\n",
        "# Creating a model\n",
        "model_v4 = tf.keras.Sequential()\n",
        "model_v4.add(tf.keras.layers.Dense(100,activation='relu',))\n",
        "model_v4.add(tf.keras.layers.Dense(100,activation='relu',))\n",
        "model_v4.add(tf.keras.layers.Dense(100,activation='relu',))\n",
        "model_v4.add(tf.keras.layers.Dense(100,activation='relu',))\n",
        "model_v4.add(tf.keras.layers.Dense(1))\n",
        "\n",
        "# compiling the model_v4\n",
        "model_v4.compile(loss=tf.keras.losses.mae,optimizer=tf.keras.optimizers.Adam(learning_rate=0.01),metrics=['mae'])\n",
        "\n",
        "# Fit the model_v4\n",
        "\n",
        "model_v4.fit(x_new,y_new,epochs = 100)"
      ],
      "metadata": {
        "id": "A2GKYjx-xI_L",
        "colab": {
          "base_uri": "https://localhost:8080/"
        },
        "outputId": "27a15bae-ea95-42d7-ba26-e13d8e0b9283"
      },
      "execution_count": null,
      "outputs": [
        {
          "output_type": "stream",
          "name": "stdout",
          "text": [
            "Epoch 1/100\n",
            "1/1 [==============================] - 1s 1s/step - loss: 13.9035 - mae: 13.9035\n",
            "Epoch 2/100\n",
            "1/1 [==============================] - 0s 14ms/step - loss: 6.4908 - mae: 6.4908\n",
            "Epoch 3/100\n",
            "1/1 [==============================] - 0s 10ms/step - loss: 13.3636 - mae: 13.3636\n",
            "Epoch 4/100\n",
            "1/1 [==============================] - 0s 12ms/step - loss: 6.1239 - mae: 6.1239\n",
            "Epoch 5/100\n",
            "1/1 [==============================] - 0s 13ms/step - loss: 7.0759 - mae: 7.0759\n",
            "Epoch 6/100\n",
            "1/1 [==============================] - 0s 20ms/step - loss: 8.0429 - mae: 8.0429\n",
            "Epoch 7/100\n",
            "1/1 [==============================] - 0s 9ms/step - loss: 8.1566 - mae: 8.1566\n",
            "Epoch 8/100\n",
            "1/1 [==============================] - 0s 22ms/step - loss: 7.7193 - mae: 7.7193\n",
            "Epoch 9/100\n",
            "1/1 [==============================] - 0s 10ms/step - loss: 6.7951 - mae: 6.7951\n",
            "Epoch 10/100\n",
            "1/1 [==============================] - 0s 14ms/step - loss: 6.0000 - mae: 6.0000\n",
            "Epoch 11/100\n",
            "1/1 [==============================] - 0s 19ms/step - loss: 6.2128 - mae: 6.2128\n",
            "Epoch 12/100\n",
            "1/1 [==============================] - 0s 12ms/step - loss: 6.6139 - mae: 6.6139\n",
            "Epoch 13/100\n",
            "1/1 [==============================] - 0s 18ms/step - loss: 6.5063 - mae: 6.5063\n",
            "Epoch 14/100\n",
            "1/1 [==============================] - 0s 15ms/step - loss: 6.0411 - mae: 6.0411\n",
            "Epoch 15/100\n",
            "1/1 [==============================] - 0s 9ms/step - loss: 6.0000 - mae: 6.0000\n",
            "Epoch 16/100\n",
            "1/1 [==============================] - 0s 11ms/step - loss: 6.3756 - mae: 6.3756\n",
            "Epoch 17/100\n",
            "1/1 [==============================] - 0s 11ms/step - loss: 6.5668 - mae: 6.5668\n",
            "Epoch 18/100\n",
            "1/1 [==============================] - 0s 15ms/step - loss: 6.5740 - mae: 6.5740\n",
            "Epoch 19/100\n",
            "1/1 [==============================] - 0s 12ms/step - loss: 6.4266 - mae: 6.4266\n",
            "Epoch 20/100\n",
            "1/1 [==============================] - 0s 15ms/step - loss: 6.1257 - mae: 6.1257\n",
            "Epoch 21/100\n",
            "1/1 [==============================] - 0s 18ms/step - loss: 6.0000 - mae: 6.0000\n",
            "Epoch 22/100\n",
            "1/1 [==============================] - 0s 11ms/step - loss: 6.1017 - mae: 6.1017\n",
            "Epoch 23/100\n",
            "1/1 [==============================] - 0s 16ms/step - loss: 6.2537 - mae: 6.2537\n",
            "Epoch 24/100\n",
            "1/1 [==============================] - 0s 18ms/step - loss: 6.1014 - mae: 6.1014\n",
            "Epoch 25/100\n",
            "1/1 [==============================] - 0s 21ms/step - loss: 6.0000 - mae: 6.0000\n",
            "Epoch 26/100\n",
            "1/1 [==============================] - 0s 17ms/step - loss: 6.0000 - mae: 6.0000\n",
            "Epoch 27/100\n",
            "1/1 [==============================] - 0s 32ms/step - loss: 6.0929 - mae: 6.0929\n",
            "Epoch 28/100\n",
            "1/1 [==============================] - 0s 18ms/step - loss: 6.1349 - mae: 6.1349\n",
            "Epoch 29/100\n",
            "1/1 [==============================] - 0s 15ms/step - loss: 6.0000 - mae: 6.0000\n",
            "Epoch 30/100\n",
            "1/1 [==============================] - 0s 26ms/step - loss: 6.0000 - mae: 6.0000\n",
            "Epoch 31/100\n",
            "1/1 [==============================] - 0s 14ms/step - loss: 6.0000 - mae: 6.0000\n",
            "Epoch 32/100\n",
            "1/1 [==============================] - 0s 16ms/step - loss: 6.0000 - mae: 6.0000\n",
            "Epoch 33/100\n",
            "1/1 [==============================] - 0s 16ms/step - loss: 6.0000 - mae: 6.0000\n",
            "Epoch 34/100\n",
            "1/1 [==============================] - 0s 19ms/step - loss: 6.0000 - mae: 6.0000\n",
            "Epoch 35/100\n",
            "1/1 [==============================] - 0s 19ms/step - loss: 6.0147 - mae: 6.0147\n",
            "Epoch 36/100\n",
            "1/1 [==============================] - 0s 17ms/step - loss: 6.0000 - mae: 6.0000\n",
            "Epoch 37/100\n",
            "1/1 [==============================] - 0s 21ms/step - loss: 6.0000 - mae: 6.0000\n",
            "Epoch 38/100\n",
            "1/1 [==============================] - 0s 29ms/step - loss: 6.0000 - mae: 6.0000\n",
            "Epoch 39/100\n",
            "1/1 [==============================] - 0s 15ms/step - loss: 6.0000 - mae: 6.0000\n",
            "Epoch 40/100\n",
            "1/1 [==============================] - 0s 20ms/step - loss: 6.1224 - mae: 6.1224\n",
            "Epoch 41/100\n",
            "1/1 [==============================] - 0s 24ms/step - loss: 6.0134 - mae: 6.0134\n",
            "Epoch 42/100\n",
            "1/1 [==============================] - 0s 13ms/step - loss: 6.0000 - mae: 6.0000\n",
            "Epoch 43/100\n",
            "1/1 [==============================] - 0s 16ms/step - loss: 6.0000 - mae: 6.0000\n",
            "Epoch 44/100\n",
            "1/1 [==============================] - 0s 23ms/step - loss: 6.1089 - mae: 6.1089\n",
            "Epoch 45/100\n",
            "1/1 [==============================] - 0s 17ms/step - loss: 6.0595 - mae: 6.0595\n",
            "Epoch 46/100\n",
            "1/1 [==============================] - 0s 16ms/step - loss: 6.0000 - mae: 6.0000\n",
            "Epoch 47/100\n",
            "1/1 [==============================] - 0s 23ms/step - loss: 6.0000 - mae: 6.0000\n",
            "Epoch 48/100\n",
            "1/1 [==============================] - 0s 17ms/step - loss: 6.0000 - mae: 6.0000\n",
            "Epoch 49/100\n",
            "1/1 [==============================] - 0s 16ms/step - loss: 6.1812 - mae: 6.1812\n",
            "Epoch 50/100\n",
            "1/1 [==============================] - 0s 12ms/step - loss: 6.1753 - mae: 6.1753\n",
            "Epoch 51/100\n",
            "1/1 [==============================] - 0s 18ms/step - loss: 6.0000 - mae: 6.0000\n",
            "Epoch 52/100\n",
            "1/1 [==============================] - 0s 21ms/step - loss: 6.0000 - mae: 6.0000\n",
            "Epoch 53/100\n",
            "1/1 [==============================] - 0s 10ms/step - loss: 6.0000 - mae: 6.0000\n",
            "Epoch 54/100\n",
            "1/1 [==============================] - 0s 11ms/step - loss: 6.0000 - mae: 6.0000\n",
            "Epoch 55/100\n",
            "1/1 [==============================] - 0s 12ms/step - loss: 6.0000 - mae: 6.0000\n",
            "Epoch 56/100\n",
            "1/1 [==============================] - 0s 15ms/step - loss: 6.0289 - mae: 6.0289\n",
            "Epoch 57/100\n",
            "1/1 [==============================] - 0s 10ms/step - loss: 6.0000 - mae: 6.0000\n",
            "Epoch 58/100\n",
            "1/1 [==============================] - 0s 10ms/step - loss: 6.0000 - mae: 6.0000\n",
            "Epoch 59/100\n",
            "1/1 [==============================] - 0s 11ms/step - loss: 6.0000 - mae: 6.0000\n",
            "Epoch 60/100\n",
            "1/1 [==============================] - 0s 9ms/step - loss: 6.0000 - mae: 6.0000\n",
            "Epoch 61/100\n",
            "1/1 [==============================] - 0s 13ms/step - loss: 6.0000 - mae: 6.0000\n",
            "Epoch 62/100\n",
            "1/1 [==============================] - 0s 8ms/step - loss: 6.0000 - mae: 6.0000\n",
            "Epoch 63/100\n",
            "1/1 [==============================] - 0s 10ms/step - loss: 6.0000 - mae: 6.0000\n",
            "Epoch 64/100\n",
            "1/1 [==============================] - 0s 7ms/step - loss: 6.0613 - mae: 6.0613\n",
            "Epoch 65/100\n",
            "1/1 [==============================] - 0s 10ms/step - loss: 6.0000 - mae: 6.0000\n",
            "Epoch 66/100\n",
            "1/1 [==============================] - 0s 7ms/step - loss: 6.0000 - mae: 6.0000\n",
            "Epoch 67/100\n",
            "1/1 [==============================] - 0s 8ms/step - loss: 6.0000 - mae: 6.0000\n",
            "Epoch 68/100\n",
            "1/1 [==============================] - 0s 10ms/step - loss: 6.0000 - mae: 6.0000\n",
            "Epoch 69/100\n",
            "1/1 [==============================] - 0s 10ms/step - loss: 6.0000 - mae: 6.0000\n",
            "Epoch 70/100\n",
            "1/1 [==============================] - 0s 24ms/step - loss: 6.0000 - mae: 6.0000\n",
            "Epoch 71/100\n",
            "1/1 [==============================] - 0s 15ms/step - loss: 6.0000 - mae: 6.0000\n",
            "Epoch 72/100\n",
            "1/1 [==============================] - 0s 24ms/step - loss: 6.0818 - mae: 6.0818\n",
            "Epoch 73/100\n",
            "1/1 [==============================] - 0s 13ms/step - loss: 6.0000 - mae: 6.0000\n",
            "Epoch 74/100\n",
            "1/1 [==============================] - 0s 12ms/step - loss: 6.0000 - mae: 6.0000\n",
            "Epoch 75/100\n",
            "1/1 [==============================] - 0s 25ms/step - loss: 6.0000 - mae: 6.0000\n",
            "Epoch 76/100\n",
            "1/1 [==============================] - 0s 11ms/step - loss: 6.0000 - mae: 6.0000\n",
            "Epoch 77/100\n",
            "1/1 [==============================] - 0s 23ms/step - loss: 6.0578 - mae: 6.0578\n",
            "Epoch 78/100\n",
            "1/1 [==============================] - 0s 16ms/step - loss: 6.0000 - mae: 6.0000\n",
            "Epoch 79/100\n",
            "1/1 [==============================] - 0s 18ms/step - loss: 6.0000 - mae: 6.0000\n",
            "Epoch 80/100\n",
            "1/1 [==============================] - 0s 15ms/step - loss: 6.0000 - mae: 6.0000\n",
            "Epoch 81/100\n",
            "1/1 [==============================] - 0s 13ms/step - loss: 6.0000 - mae: 6.0000\n",
            "Epoch 82/100\n",
            "1/1 [==============================] - 0s 9ms/step - loss: 6.0000 - mae: 6.0000\n",
            "Epoch 83/100\n",
            "1/1 [==============================] - 0s 10ms/step - loss: 6.0000 - mae: 6.0000\n",
            "Epoch 84/100\n",
            "1/1 [==============================] - 0s 7ms/step - loss: 6.0000 - mae: 6.0000\n",
            "Epoch 85/100\n",
            "1/1 [==============================] - 0s 9ms/step - loss: 6.0000 - mae: 6.0000\n",
            "Epoch 86/100\n",
            "1/1 [==============================] - 0s 15ms/step - loss: 6.0000 - mae: 6.0000\n",
            "Epoch 87/100\n",
            "1/1 [==============================] - 0s 26ms/step - loss: 6.0000 - mae: 6.0000\n",
            "Epoch 88/100\n",
            "1/1 [==============================] - 0s 24ms/step - loss: 6.0000 - mae: 6.0000\n",
            "Epoch 89/100\n",
            "1/1 [==============================] - 0s 17ms/step - loss: 6.0000 - mae: 6.0000\n",
            "Epoch 90/100\n",
            "1/1 [==============================] - 0s 12ms/step - loss: 6.0000 - mae: 6.0000\n",
            "Epoch 91/100\n",
            "1/1 [==============================] - 0s 19ms/step - loss: 6.0048 - mae: 6.0048\n",
            "Epoch 92/100\n",
            "1/1 [==============================] - 0s 19ms/step - loss: 6.0000 - mae: 6.0000\n",
            "Epoch 93/100\n",
            "1/1 [==============================] - 0s 11ms/step - loss: 6.0000 - mae: 6.0000\n",
            "Epoch 94/100\n",
            "1/1 [==============================] - 0s 10ms/step - loss: 6.0036 - mae: 6.0036\n",
            "Epoch 95/100\n",
            "1/1 [==============================] - 0s 8ms/step - loss: 6.0000 - mae: 6.0000\n",
            "Epoch 96/100\n",
            "1/1 [==============================] - 0s 8ms/step - loss: 6.0000 - mae: 6.0000\n",
            "Epoch 97/100\n",
            "1/1 [==============================] - 0s 13ms/step - loss: 6.0000 - mae: 6.0000\n",
            "Epoch 98/100\n",
            "1/1 [==============================] - 0s 15ms/step - loss: 6.0000 - mae: 6.0000\n",
            "Epoch 99/100\n",
            "1/1 [==============================] - 0s 11ms/step - loss: 6.0000 - mae: 6.0000\n",
            "Epoch 100/100\n",
            "1/1 [==============================] - 0s 10ms/step - loss: 6.0000 - mae: 6.0000\n"
          ]
        },
        {
          "output_type": "execute_result",
          "data": {
            "text/plain": [
              "<keras.callbacks.History at 0x7f017bbdec90>"
            ]
          },
          "metadata": {},
          "execution_count": 11
        }
      ]
    },
    {
      "cell_type": "code",
      "source": [
        "# The more the result is near to 14 (which is inside the pred variable) the more the model is accurate\n",
        "print(f\"Result of model 1: {model_v1.predict(tf.expand_dims(pred,axis=0))}\")\n",
        "print(f\"Result of model 2: {model_v2.predict(tf.expand_dims(pred,axis=-1))}\")\n",
        "print(f\"Result of model 3: {model_v3.predict(tf.expand_dims(pred,axis=-1))}\")\n",
        "print(f\"Result of model 4: {model_v4.predict(tf.expand_dims(pred,axis=-1))}\")\n"
      ],
      "metadata": {
        "id": "iGr3jZRjuDfG",
        "colab": {
          "base_uri": "https://localhost:8080/"
        },
        "outputId": "5a2fc51d-5c2b-4bf7-9d0a-d01ce70fa4bf"
      },
      "execution_count": null,
      "outputs": [
        {
          "output_type": "stream",
          "name": "stdout",
          "text": [
            "WARNING:tensorflow:Model was constructed with shape (None, 8) for input KerasTensor(type_spec=TensorSpec(shape=(None, 8), dtype=tf.float64, name='dense_input'), name='dense_input', description=\"created by layer 'dense_input'\"), but it was called on an input with incompatible shape (None, 1, 8).\n",
            "Result of model 1: [[[-15.623142]]]\n",
            "Result of model 2: [[14.427089]]\n",
            "WARNING:tensorflow:5 out of the last 5 calls to <function Model.make_predict_function.<locals>.predict_function at 0x7f017baabf80> triggered tf.function retracing. Tracing is expensive and the excessive number of tracings could be due to (1) creating @tf.function repeatedly in a loop, (2) passing tensors with different shapes, (3) passing Python objects instead of tensors. For (1), please define your @tf.function outside of the loop. For (2), @tf.function has experimental_relax_shapes=True option that relaxes argument shapes that can avoid unnecessary retracing. For (3), please refer to https://www.tensorflow.org/guide/function#controlling_retracing and https://www.tensorflow.org/api_docs/python/tf/function for  more details.\n",
            "Result of model 3: [[12.227598]]\n",
            "WARNING:tensorflow:6 out of the last 6 calls to <function Model.make_predict_function.<locals>.predict_function at 0x7f017b9c74d0> triggered tf.function retracing. Tracing is expensive and the excessive number of tracings could be due to (1) creating @tf.function repeatedly in a loop, (2) passing tensors with different shapes, (3) passing Python objects instead of tensors. For (1), please define your @tf.function outside of the loop. For (2), @tf.function has experimental_relax_shapes=True option that relaxes argument shapes that can avoid unnecessary retracing. For (3), please refer to https://www.tensorflow.org/guide/function#controlling_retracing and https://www.tensorflow.org/api_docs/python/tf/function for  more details.\n",
            "Result of model 4: [[12.856389]]\n"
          ]
        }
      ]
    },
    {
      "cell_type": "markdown",
      "source": [
        "### Evaluating the model\n",
        ">In practice, a typical model workflow you'll go through when building your neural network:\n",
        "```\n",
        "Build the model --> Fit it --> Evalute it --> Tweak the model --> Fit it --> Evalute it --> Tweak the model....\n",
        "```\n"
      ],
      "metadata": {
        "id": "cn7u3Yy-P-kW"
      }
    },
    {
      "cell_type": "code",
      "source": [
        "# Make a bigger dataset\n",
        "x = tf.range(-100, 100, 4)\n",
        "x"
      ],
      "metadata": {
        "id": "_tIR23T07N7F",
        "colab": {
          "base_uri": "https://localhost:8080/"
        },
        "outputId": "c1d45761-4925-40ba-b501-7f2ecf390060"
      },
      "execution_count": null,
      "outputs": [
        {
          "output_type": "execute_result",
          "data": {
            "text/plain": [
              "<tf.Tensor: shape=(50,), dtype=int32, numpy=\n",
              "array([-100,  -96,  -92,  -88,  -84,  -80,  -76,  -72,  -68,  -64,  -60,\n",
              "        -56,  -52,  -48,  -44,  -40,  -36,  -32,  -28,  -24,  -20,  -16,\n",
              "        -12,   -8,   -4,    0,    4,    8,   12,   16,   20,   24,   28,\n",
              "         32,   36,   40,   44,   48,   52,   56,   60,   64,   68,   72,\n",
              "         76,   80,   84,   88,   92,   96], dtype=int32)>"
            ]
          },
          "metadata": {},
          "execution_count": 13
        }
      ]
    },
    {
      "cell_type": "code",
      "source": [
        "# Make labels for the dataset\n",
        "y = x+10\n",
        "y"
      ],
      "metadata": {
        "id": "cn0coslV7H-N",
        "colab": {
          "base_uri": "https://localhost:8080/"
        },
        "outputId": "23318e7d-4239-427e-82c9-67b485369d7e"
      },
      "execution_count": null,
      "outputs": [
        {
          "output_type": "execute_result",
          "data": {
            "text/plain": [
              "<tf.Tensor: shape=(50,), dtype=int32, numpy=\n",
              "array([-90, -86, -82, -78, -74, -70, -66, -62, -58, -54, -50, -46, -42,\n",
              "       -38, -34, -30, -26, -22, -18, -14, -10,  -6,  -2,   2,   6,  10,\n",
              "        14,  18,  22,  26,  30,  34,  38,  42,  46,  50,  54,  58,  62,\n",
              "        66,  70,  74,  78,  82,  86,  90,  94,  98, 102, 106], dtype=int32)>"
            ]
          },
          "metadata": {},
          "execution_count": 14
        }
      ]
    },
    {
      "cell_type": "code",
      "source": [
        "x_train = x[:40]\n",
        "y_train = y[:40]\n",
        "\n",
        "x_test = x[40:]\n",
        "y_test = x[40:]\n",
        "\n",
        "len(x_train),len(x_test),len(y_train),len(y_test)"
      ],
      "metadata": {
        "id": "J0Z-tvPX7iGu",
        "colab": {
          "base_uri": "https://localhost:8080/"
        },
        "outputId": "5c597ae0-8c88-4184-d1e1-1061de8e958c"
      },
      "execution_count": null,
      "outputs": [
        {
          "output_type": "execute_result",
          "data": {
            "text/plain": [
              "(40, 10, 40, 10)"
            ]
          },
          "metadata": {},
          "execution_count": 15
        }
      ]
    },
    {
      "cell_type": "code",
      "source": [
        "import matplotlib.pyplot as plt\n",
        "plt.figure(figsize=(6,3))\n",
        "# Plot training data in blue\n",
        "plt.scatter(x_train,y_train,c='b',label='Training data')\n",
        "plt.scatter(x_test,y_test,c='g',label='Testing data')\n",
        "plt.legend()\n"
      ],
      "metadata": {
        "id": "-TDNZ45e7_q3",
        "colab": {
          "base_uri": "https://localhost:8080/",
          "height": 228
        },
        "outputId": "d32052b0-0ec7-4850-e81a-92863591db28"
      },
      "execution_count": null,
      "outputs": [
        {
          "output_type": "execute_result",
          "data": {
            "text/plain": [
              "<matplotlib.legend.Legend at 0x7f017b98f350>"
            ]
          },
          "metadata": {},
          "execution_count": 16
        },
        {
          "output_type": "display_data",
          "data": {
            "text/plain": [
              "<Figure size 432x216 with 1 Axes>"
            ],
            "image/png": "[encoded data removed]"
          },
          "metadata": {
            "needs_background": "light"
          }
        }
      ]
    },
    {
      "cell_type": "code",
      "source": [
        "x[0], y[0]"
      ],
      "metadata": {
        "id": "cTN1ABhrBc4y",
        "colab": {
          "base_uri": "https://localhost:8080/"
        },
        "outputId": "22accc94-5448-4e5c-e265-7acc4b50c797"
      },
      "execution_count": null,
      "outputs": [
        {
          "output_type": "execute_result",
          "data": {
            "text/plain": [
              "(<tf.Tensor: shape=(), dtype=int32, numpy=-100>,\n",
              " <tf.Tensor: shape=(), dtype=int32, numpy=-90>)"
            ]
          },
          "metadata": {},
          "execution_count": 17
        }
      ]
    },
    {
      "cell_type": "code",
      "source": [
        "# 1. Creating a model \n",
        "\n",
        "model = tf.keras.Sequential(name='Asad_Pro')\n",
        "model.add(tf.keras.layers.Dense(100,activation='relu',input_shape=([1]),name=\"layer0\"))\n",
        "model.add(tf.keras.layers.Dense(100,activation='relu',name=\"layer1\"))\n",
        "model.add(tf.keras.layers.Dense(100,activation='relu',name=\"layer2\"))\n",
        "model.add(tf.keras.layers.Dense(1,name=\"output_layer\"))\n",
        "  \n",
        "# 2. Compile the model\n",
        "\n",
        "model.compile(optimizer=tf.keras.optimizers.Adam(learning_rate=0.01),loss=tf.keras.losses.mae, metrics=[\"mae\"])\n",
        "\n",
        "# 3. Fit the model\n",
        "model.fit(x_train,y_train,epochs=50,batch_size=32,verbose=0)\n"
      ],
      "metadata": {
        "id": "ImkCwYU8-4XR",
        "colab": {
          "base_uri": "https://localhost:8080/"
        },
        "outputId": "205d9ede-1c62-4e8c-e59e-9850c9f976b8"
      },
      "execution_count": null,
      "outputs": [
        {
          "output_type": "execute_result",
          "data": {
            "text/plain": [
              "<keras.callbacks.History at 0x7f017ba20ad0>"
            ]
          },
          "metadata": {},
          "execution_count": 18
        }
      ]
    },
    {
      "cell_type": "code",
      "source": [
        "\n",
        "y_pred = model.predict(x_test)\n",
        "y_test,y_pred"
      ],
      "metadata": {
        "id": "ivpd6JCCxyrp",
        "colab": {
          "base_uri": "https://localhost:8080/"
        },
        "outputId": "198d17b2-6acf-49a3-d062-273c99d9408f"
      },
      "execution_count": null,
      "outputs": [
        {
          "output_type": "execute_result",
          "data": {
            "text/plain": [
              "(<tf.Tensor: shape=(10,), dtype=int32, numpy=array([60, 64, 68, 72, 76, 80, 84, 88, 92, 96], dtype=int32)>,\n",
              " array([[61.167217],\n",
              "        [64.77538 ],\n",
              "        [68.38356 ],\n",
              "        [71.99174 ],\n",
              "        [75.5999  ],\n",
              "        [79.20807 ],\n",
              "        [82.81624 ],\n",
              "        [86.4244  ],\n",
              "        [90.03275 ],\n",
              "        [93.64273 ]], dtype=float32))"
            ]
          },
          "metadata": {},
          "execution_count": 19
        }
      ]
    },
    {
      "cell_type": "code",
      "source": [
        "from tensorflow.keras.utils import plot_model\n",
        "plot_model(model=model,show_shapes=True)"
      ],
      "metadata": {
        "id": "TaZO01yvYAcn",
        "colab": {
          "base_uri": "https://localhost:8080/",
          "height": 533
        },
        "outputId": "7b5c84a3-26e5-4bc4-c5b2-09d85271c6e5"
      },
      "execution_count": null,
      "outputs": [
        {
          "output_type": "execute_result",
          "data": {
            "text/plain": [
              "<IPython.core.display.Image object>"
            ],
            "image/png": "[encoded data removed]"
          },
          "metadata": {},
          "execution_count": 20
        }
      ]
    },
    {
      "cell_type": "markdown",
      "source": [
        "## Visualzing our model predictions"
      ],
      "metadata": {
        "id": "De69-tivbI-o"
      }
    },
    {
      "cell_type": "code",
      "source": [
        "# creating plot function\n",
        "def plot_prediction(train_data = x_train,train_labels= y_train, test_data= x_test,test_labels= y_test,predictions=y_pred):\n",
        "  \"\"\"Plots training data and test data and compare ground truth to them\"\"\"\n",
        "  plt.figure(figsize=(10,7))\n",
        "\n",
        "  plt.scatter(train_data,train_labels,c='b',label='Training Data')\n",
        "  plt.scatter(test_data,test_labels,c='g',label='Testing Data')\n",
        "  plt.scatter(test_data,predictions,c='r',label='Predicted')\n",
        "  plt.legend()\n",
        "plot_prediction()"
      ],
      "metadata": {
        "id": "b2yrDvMh0lKA",
        "colab": {
          "base_uri": "https://localhost:8080/",
          "height": 428
        },
        "outputId": "5660bcf7-9690-4ea0-f630-717004041ad6"
      },
      "execution_count": null,
      "outputs": [
        {
          "output_type": "display_data",
          "data": {
            "text/plain": [
              "<Figure size 720x504 with 1 Axes>"
            ],
            "image/png": "[encoded data removed]"
          },
          "metadata": {
            "needs_background": "light"
          }
        }
      ]
    },
    {
      "cell_type": "code",
      "source": [
        "tf.keras.losses.mean_absolute_error(y_test,tf.constant(y_pred))"
      ],
      "metadata": {
        "id": "BmH6pIIt7o1Z",
        "colab": {
          "base_uri": "https://localhost:8080/"
        },
        "outputId": "f2b0525b-efd6-409f-98f9-134fd55a2cac"
      },
      "execution_count": null,
      "outputs": [
        {
          "output_type": "execute_result",
          "data": {
            "text/plain": [
              "<tf.Tensor: shape=(10,), dtype=float32, numpy=\n",
              "array([17.066227, 14.33477 , 12.246576, 10.803305, 10.08002 , 10.      ,\n",
              "       10.563248, 11.76976 , 13.619652, 16.114185], dtype=float32)>"
            ]
          },
          "metadata": {},
          "execution_count": 22
        }
      ]
    },
    {
      "cell_type": "code",
      "source": [
        "# Calculating the mean absolute error\n",
        "mae= tf.keras.losses.mean_absolute_error(y_true = y_test,y_pred=tf.squeeze(y_pred))\n",
        "mae"
      ],
      "metadata": {
        "id": "j0w8PwP4-Q_K",
        "colab": {
          "base_uri": "https://localhost:8080/"
        },
        "outputId": "b8b7d511-3a55-4a70-b991-587839a65c4d"
      },
      "execution_count": null,
      "outputs": [
        {
          "output_type": "execute_result",
          "data": {
            "text/plain": [
              "<tf.Tensor: shape=(), dtype=float32, numpy=1.0610332>"
            ]
          },
          "metadata": {},
          "execution_count": 23
        }
      ]
    },
    {
      "cell_type": "code",
      "source": [
        "# Calculating the mean square error\n",
        "\n",
        "mse = tf.keras.losses.mean_squared_error(y_true = y_test, y_pred = tf.squeeze(y_pred))\n",
        "mse"
      ],
      "metadata": {
        "id": "JdH-DTka_zeq",
        "colab": {
          "base_uri": "https://localhost:8080/"
        },
        "outputId": "40890e61-d5ea-46ff-8773-4921373a2443"
      },
      "execution_count": null,
      "outputs": [
        {
          "output_type": "execute_result",
          "data": {
            "text/plain": [
              "<tf.Tensor: shape=(), dtype=float32, numpy=1.6208622>"
            ]
          },
          "metadata": {},
          "execution_count": 24
        }
      ]
    },
    {
      "cell_type": "code",
      "source": [
        "# Saving model method # 1\n",
        "model.save('new_model')"
      ],
      "metadata": {
        "id": "JP-p-dH9yHZt",
        "colab": {
          "base_uri": "https://localhost:8080/"
        },
        "outputId": "cea12f89-00de-4eed-b0e2-08d433987a03"
      },
      "execution_count": null,
      "outputs": [
        {
          "output_type": "stream",
          "name": "stdout",
          "text": [
            "INFO:tensorflow:Assets written to: new_model/assets\n"
          ]
        }
      ]
    },
    {
      "cell_type": "code",
      "source": [
        "# Saving model method # 2\n",
        "model.save('method_2.h5')"
      ],
      "metadata": {
        "id": "dJLm91sVy7w3"
      },
      "execution_count": null,
      "outputs": []
    },
    {
      "cell_type": "code",
      "source": [
        "# Loading model back and check it's summary \n",
        "save_model = tf.keras.models.load_model('method_2.h5')\n",
        "save_model.summary()"
      ],
      "metadata": {
        "id": "HNpS8dAtzU0W",
        "colab": {
          "base_uri": "https://localhost:8080/"
        },
        "outputId": "8fa2a6be-914f-4b7a-fdbf-15e9a8f8ac48"
      },
      "execution_count": null,
      "outputs": [
        {
          "output_type": "stream",
          "name": "stdout",
          "text": [
            "Model: \"Asad_Pro\"\n",
            "_________________________________________________________________\n",
            " Layer (type)                Output Shape              Param #   \n",
            "=================================================================\n",
            " layer0 (Dense)              (None, 100)               200       \n",
            "                                                                 \n",
            " layer1 (Dense)              (None, 100)               10100     \n",
            "                                                                 \n",
            " layer2 (Dense)              (None, 100)               10100     \n",
            "                                                                 \n",
            " output_layer (Dense)        (None, 1)                 101       \n",
            "                                                                 \n",
            "=================================================================\n",
            "Total params: 20,501\n",
            "Trainable params: 20,501\n",
            "Non-trainable params: 0\n",
            "_________________________________________________________________\n"
          ]
        }
      ]
    },
    {
      "cell_type": "code",
      "source": [
        "# asad = tf.constant([\n",
        "#                     [4,2,3,1],\n",
        "#                     [3,2,2,4],\n",
        "#                     [2,2,2,3]\n",
        "#                     ])\n",
        "from numpy import int64,int32,float64\n",
        "ten = tf.constant([1, 2, 3, 4, 5, 6],dtype=float64,shape=(2,3))\n",
        "tenso = tf.constant([2,6,3,7,4,8],dtype=int32,shape=(3,2),name='tenso')\n",
        "tenso"
      ],
      "metadata": {
        "colab": {
          "base_uri": "https://localhost:8080/"
        },
        "id": "froR09i17mVm",
        "outputId": "37a527e4-6e42-460a-faab-f7423313b161"
      },
      "execution_count": null,
      "outputs": [
        {
          "output_type": "execute_result",
          "data": {
            "text/plain": [
              "<tf.Tensor: shape=(3, 2), dtype=int32, numpy=\n",
              "array([[2, 6],\n",
              "       [3, 7],\n",
              "       [4, 8]], dtype=int32)>"
            ]
          },
          "metadata": {},
          "execution_count": 28
        }
      ]
    },
    {
      "cell_type": "code",
      "source": [
        "random_3 = tf.random.Generator.from_seed(42)\n",
        "random_3 = random_3.normal(shape=(3, 2))\n",
        "random_4 = tf.random.Generator.from_seed(11)\n",
        "random_4 = random_4.normal(shape=(3, 2))\n",
        "\n",
        "random = tf.random.Generator.from_seed(5)\n",
        "random = tf.random.normal(shape=(2,2),seed=(42))\n",
        "random"
      ],
      "metadata": {
        "id": "Wdo4UYuwKWor",
        "colab": {
          "base_uri": "https://localhost:8080/"
        },
        "outputId": "d15f81cf-692d-4a39-b043-0116d4102a1e"
      },
      "execution_count": null,
      "outputs": [
        {
          "output_type": "execute_result",
          "data": {
            "text/plain": [
              "<tf.Tensor: shape=(2, 2), dtype=float32, numpy=\n",
              "array([[-0.28077507, -0.1377521 ],\n",
              "       [-0.6763296 ,  0.02458041]], dtype=float32)>"
            ]
          },
          "metadata": {},
          "execution_count": 29
        }
      ]
    },
    {
      "cell_type": "code",
      "source": [
        "\n",
        "seeder = tf.random.set_seed(42)\n",
        "new_random = tf.random.uniform(shape=(5,5),minval=0,maxval=2,dtype=int32)\n",
        "new_random"
      ],
      "metadata": {
        "colab": {
          "base_uri": "https://localhost:8080/"
        },
        "id": "l1j0Fl2QwjH8",
        "outputId": "9cd3448f-b0e5-418f-ae17-d827792a7698"
      },
      "execution_count": null,
      "outputs": [
        {
          "output_type": "execute_result",
          "data": {
            "text/plain": [
              "<tf.Tensor: shape=(5, 5), dtype=int32, numpy=\n",
              "array([[1, 1, 1, 0, 0],\n",
              "       [0, 1, 1, 1, 1],\n",
              "       [0, 0, 1, 1, 0],\n",
              "       [0, 1, 0, 1, 1],\n",
              "       [1, 0, 1, 0, 1]], dtype=int32)>"
            ]
          },
          "metadata": {},
          "execution_count": 30
        }
      ]
    },
    {
      "cell_type": "code",
      "source": [
        "not_shuffled = tf.constant([[10, 7],\n",
        "                            [3, 4],\n",
        "                            [2, 5]])\n",
        "not_shuffled\n",
        "tf.random.set_seed(42)\n",
        "shuffled = tf.random.shuffle(not_shuffled)\n",
        "shuffled"
      ],
      "metadata": {
        "colab": {
          "base_uri": "https://localhost:8080/"
        },
        "id": "gvVDwwi1yTh9",
        "outputId": "71ff8945-52da-43a3-cf1a-e1bc2e6e60bc"
      },
      "execution_count": null,
      "outputs": [
        {
          "output_type": "execute_result",
          "data": {
            "text/plain": [
              "<tf.Tensor: shape=(3, 2), dtype=int32, numpy=\n",
              "array([[ 3,  4],\n",
              "       [ 2,  5],\n",
              "       [10,  7]], dtype=int32)>"
            ]
          },
          "metadata": {},
          "execution_count": 31
        }
      ]
    },
    {
      "cell_type": "code",
      "source": [
        "zeros = tf.zeros(shape=(4,4))\n",
        "ones = tf.ones(shape=(4,4))\n",
        "zeros, ones"
      ],
      "metadata": {
        "colab": {
          "base_uri": "https://localhost:8080/"
        },
        "id": "s-Ihxak81bk9",
        "outputId": "1c86774f-e037-4ab8-a92e-1d23d9c15899"
      },
      "execution_count": null,
      "outputs": [
        {
          "output_type": "execute_result",
          "data": {
            "text/plain": [
              "(<tf.Tensor: shape=(4, 4), dtype=float32, numpy=\n",
              " array([[0., 0., 0., 0.],\n",
              "        [0., 0., 0., 0.],\n",
              "        [0., 0., 0., 0.],\n",
              "        [0., 0., 0., 0.]], dtype=float32)>,\n",
              " <tf.Tensor: shape=(4, 4), dtype=float32, numpy=\n",
              " array([[1., 1., 1., 1.],\n",
              "        [1., 1., 1., 1.],\n",
              "        [1., 1., 1., 1.],\n",
              "        [1., 1., 1., 1.]], dtype=float32)>)"
            ]
          },
          "metadata": {},
          "execution_count": 32
        }
      ]
    },
    {
      "cell_type": "code",
      "source": [
        "import numpy as np\n",
        "\n",
        "arr = np.array([[1, 2, 3, 4, 5],[11, 22, 33, 44, 55]])\n",
        "arr_tensor = tf.constant(arr, shape=(5,2))\n",
        "arr_tensor\n",
        "\n",
        "arrange = np.arange(1,25,2,dtype=int64) # int64 will take more space than int32 on memory because of precision points\n",
        "arrange\n",
        "\n",
        "tens = tf.constant(arrange, shape=(3,2,2))\n",
        "tens"
      ],
      "metadata": {
        "colab": {
          "base_uri": "https://localhost:8080/"
        },
        "id": "wIgEIKMH1rdd",
        "outputId": "49bfdd74-3bae-41e5-b416-83b728370579"
      },
      "execution_count": null,
      "outputs": [
        {
          "output_type": "execute_result",
          "data": {
            "text/plain": [
              "<tf.Tensor: shape=(3, 2, 2), dtype=int64, numpy=\n",
              "array([[[ 1,  3],\n",
              "        [ 5,  7]],\n",
              "\n",
              "       [[ 9, 11],\n",
              "        [13, 15]],\n",
              "\n",
              "       [[17, 19],\n",
              "        [21, 23]]])>"
            ]
          },
          "metadata": {},
          "execution_count": 33
        }
      ]
    },
    {
      "cell_type": "code",
      "source": [
        "# shape, rank , size\n",
        "\n",
        "tens.shape, tens.ndim, tf.size(tens).numpy()\n",
        "\n",
        "simple = tf.constant(\n",
        "  [\n",
        "   [\n",
        "   [10,7,2],\n",
        "   [3,5,2]\n",
        "   ],\n",
        "   [\n",
        "   [13,1,12],\n",
        "   [23,55,22]\n",
        "   ]\n",
        " \n",
        " ])\n",
        "simple.shape[-1]"
      ],
      "metadata": {
        "colab": {
          "base_uri": "https://localhost:8080/"
        },
        "id": "QJ81xfTa0xsc",
        "outputId": "b6585dbf-d8e6-4709-94dd-168401cd6a3c"
      },
      "execution_count": null,
      "outputs": [
        {
          "output_type": "execute_result",
          "data": {
            "text/plain": [
              "3"
            ]
          },
          "metadata": {},
          "execution_count": 34
        }
      ]
    },
    {
      "cell_type": "code",
      "source": [
        "simple[:2, :2, :2]\n"
      ],
      "metadata": {
        "colab": {
          "base_uri": "https://localhost:8080/"
        },
        "id": "mMy1Yntn8d3Y",
        "outputId": "89d4230d-94ed-480b-b536-0769467638b6"
      },
      "execution_count": null,
      "outputs": [
        {
          "output_type": "execute_result",
          "data": {
            "text/plain": [
              "<tf.Tensor: shape=(2, 2, 2), dtype=int32, numpy=\n",
              "array([[[10,  7],\n",
              "        [ 3,  5]],\n",
              "\n",
              "       [[13,  1],\n",
              "        [23, 55]]], dtype=int32)>"
            ]
          },
          "metadata": {},
          "execution_count": 35
        }
      ]
    },
    {
      "cell_type": "code",
      "source": [
        "a = [[4.0, 4, 4.0], [3.0, 3, 3.6], [3.5, 6, 4.8]]\n",
        "\n",
        "# Output required 4.0, 3.0, 3.5\n",
        "\n",
        "a[:1]"
      ],
      "metadata": {
        "colab": {
          "base_uri": "https://localhost:8080/"
        },
        "id": "-n7LoNEu5nKu",
        "outputId": "4506c197-f4ad-4672-a1ce-803e57eae840"
      },
      "execution_count": null,
      "outputs": [
        {
          "output_type": "execute_result",
          "data": {
            "text/plain": [
              "[[4.0, 4, 4.0]]"
            ]
          },
          "metadata": {},
          "execution_count": 36
        }
      ]
    },
    {
      "cell_type": "code",
      "source": [
        "\n",
        "# arr = np.array([[1, 2, 3, 4, 5], [6, 7, 8, 9, 10],[11, 12, 13, 14, 15]])\n",
        "# print(arr[0:3,1:4])\n",
        "arr = np.array(['apple', 'banana', 'cherry'],dtype='S')\n",
        "arr1 = np.array(['1','2','3','4'],dtype='S')\n",
        "arr1.dtype\n",
        "dup_arr = arr1.astype('i')\n",
        "dup_arr.dtype"
      ],
      "metadata": {
        "colab": {
          "base_uri": "https://localhost:8080/"
        },
        "id": "lG3dFv0K9hno",
        "outputId": "f956eaf5-5e1d-4225-8c51-4ff442aa63fa"
      },
      "execution_count": null,
      "outputs": [
        {
          "output_type": "execute_result",
          "data": {
            "text/plain": [
              "dtype('int32')"
            ]
          },
          "metadata": {},
          "execution_count": 37
        }
      ]
    },
    {
      "cell_type": "code",
      "source": [
        "# Turing the above array into tensor\n",
        "\n",
        "arr_to_tensor = tf.constant(arr, shape = (3),dtype='string')\n",
        "arr_to_tensor"
      ],
      "metadata": {
        "colab": {
          "base_uri": "https://localhost:8080/"
        },
        "id": "MeETA0aBGVQc",
        "outputId": "9616612b-6d35-445f-b157-c5fa960e700d"
      },
      "execution_count": null,
      "outputs": [
        {
          "output_type": "execute_result",
          "data": {
            "text/plain": [
              "<tf.Tensor: shape=(3,), dtype=string, numpy=array([b'apple', b'banana', b'cherry'], dtype=object)>"
            ]
          },
          "metadata": {},
          "execution_count": 38
        }
      ]
    },
    {
      "cell_type": "markdown",
      "source": [
        "##**Copy and view**\n",
        "* when we do changes in a copy the original will not be effeted \n",
        "* when we do changes in a view the orginal file will effect"
      ],
      "metadata": {
        "id": "tbrB28EFEYIq"
      }
    },
    {
      "cell_type": "code",
      "source": [
        "# create a copy of an array \n",
        "copy_array = arr.copy()\n",
        "copy_array[0] = 'Tomato'\n",
        "copy_array, arr"
      ],
      "metadata": {
        "colab": {
          "base_uri": "https://localhost:8080/"
        },
        "id": "-GS59qC7DeBZ",
        "outputId": "ed3cf0c6-7dd8-46d6-88aa-d667cb5fbb15"
      },
      "execution_count": null,
      "outputs": [
        {
          "output_type": "execute_result",
          "data": {
            "text/plain": [
              "(array([b'Tomato', b'banana', b'cherry'], dtype='|S6'),\n",
              " array([b'apple', b'banana', b'cherry'], dtype='|S6'))"
            ]
          },
          "metadata": {},
          "execution_count": 39
        }
      ]
    },
    {
      "cell_type": "code",
      "source": [
        "# create a view of an array and make some changes into view and see the effect in original array\n",
        "array1 = np.array([1,2,3,4])\n",
        "array_view = array1.view()\n",
        "array_view[0]=11\n",
        "array1, array_view # Now here you you can see both of the array are the same.\n"
      ],
      "metadata": {
        "colab": {
          "base_uri": "https://localhost:8080/"
        },
        "id": "0GWs4sqME-vr",
        "outputId": "d92f193c-e87d-487b-a455-fdff050bfbb2"
      },
      "execution_count": null,
      "outputs": [
        {
          "output_type": "execute_result",
          "data": {
            "text/plain": [
              "(array([11,  2,  3,  4]), array([11,  2,  3,  4]))"
            ]
          },
          "metadata": {},
          "execution_count": 40
        }
      ]
    },
    {
      "cell_type": "code",
      "source": [
        "# Reshaping the array \n",
        "arr = np.array([1, 2, 3, 4], ndmin=2)\n",
        "arr.shape\n",
        "new_arr = arr.reshape(1,2,2) \n",
        "new_arr.shape,arr.shape\n"
      ],
      "metadata": {
        "colab": {
          "base_uri": "https://localhost:8080/"
        },
        "id": "cBQGJim0GR-b",
        "outputId": "45461829-dc2b-405b-9b18-754dea1fd2d3"
      },
      "execution_count": null,
      "outputs": [
        {
          "output_type": "execute_result",
          "data": {
            "text/plain": [
              "((1, 2, 2), (1, 4))"
            ]
          },
          "metadata": {},
          "execution_count": 41
        }
      ]
    },
    {
      "cell_type": "code",
      "source": [
        "# Reshape From 1-D to 3-D\n",
        "arr = np.array([1, 2, 3, 4, 5, 6, 7, 8, 9, 10, 11, 12])\n",
        "change_dim = arr.reshape(2,2,3)\n",
        "change_dim.ndim,arr.ndim\n",
        "\n",
        "for x in arr:\n",
        "  print('Number: ',x)"
      ],
      "metadata": {
        "colab": {
          "base_uri": "https://localhost:8080/"
        },
        "id": "85Zk1prhIlKc",
        "outputId": "215bdf5c-a9f4-4349-ba4f-dab27844e3f8"
      },
      "execution_count": null,
      "outputs": [
        {
          "output_type": "stream",
          "name": "stdout",
          "text": [
            "Number:  1\n",
            "Number:  2\n",
            "Number:  3\n",
            "Number:  4\n",
            "Number:  5\n",
            "Number:  6\n",
            "Number:  7\n",
            "Number:  8\n",
            "Number:  9\n",
            "Number:  10\n",
            "Number:  11\n",
            "Number:  12\n"
          ]
        }
      ]
    },
    {
      "cell_type": "code",
      "source": [
        "# converting a 3D array into 1D or vector array of flattening it as we do in CNN architecture\n",
        "\n",
        "tensor = tf.constant([[[ 1,  2,  3],\n",
        "                 [ 4,  5,  6]],\n",
        "\n",
        "               [ [ 7,  8,  9],\n",
        "                 [10, 11, 12]\n",
        "               ]])\n",
        "tensor\n",
        "tensor_new = tf.reshape(tensor,shape=(-1))\n",
        "tensor_new\n",
        "# Looping through every element of tensor\n",
        "for x in tensor:\n",
        "  for y in x:\n",
        "    for z in y:\n",
        "      print(z.numpy())\n",
        "\n",
        "for item in np.nditer(x):\n",
        "  print(item)\n"
      ],
      "metadata": {
        "colab": {
          "base_uri": "https://localhost:8080/"
        },
        "id": "6lrjdiphI-U8",
        "outputId": "5cd619fe-9f97-41b3-a4e0-4cae97a974ab"
      },
      "execution_count": null,
      "outputs": [
        {
          "output_type": "stream",
          "name": "stdout",
          "text": [
            "1\n",
            "2\n",
            "3\n",
            "4\n",
            "5\n",
            "6\n",
            "7\n",
            "8\n",
            "9\n",
            "10\n",
            "11\n",
            "12\n",
            "7\n",
            "8\n",
            "9\n",
            "10\n",
            "11\n",
            "12\n"
          ]
        }
      ]
    },
    {
      "cell_type": "code",
      "source": [
        "# concatenation using stack method\n",
        "arr1 = np.array([1, 2, 3])\n",
        "\n",
        "arr2 = np.array([4, 5, 6])\n",
        "\n",
        "arr = np.stack((arr1, arr2), axis=0)\n",
        "\n",
        "print(arr)"
      ],
      "metadata": {
        "colab": {
          "base_uri": "https://localhost:8080/"
        },
        "id": "fu2AntmYN6wt",
        "outputId": "dcce93f6-5f96-4d0c-b056-413a2d2e701b"
      },
      "execution_count": null,
      "outputs": [
        {
          "output_type": "stream",
          "name": "stdout",
          "text": [
            "[[1 2 3]\n",
            " [4 5 6]]\n"
          ]
        }
      ]
    },
    {
      "cell_type": "code",
      "source": [
        "# concatenation of array using simple concatenation\n",
        "arr4 = arr1.copy()\n",
        "arr5 = arr2.copy()\n",
        "\n",
        "new_arr = np.concatenate((arr1, arr2), axis=0)\n",
        "new_arr.ndim"
      ],
      "metadata": {
        "colab": {
          "base_uri": "https://localhost:8080/"
        },
        "id": "a-x29LUtOU-9",
        "outputId": "e9db7d11-b1c0-418c-dc1f-ed960ff0f0b6"
      },
      "execution_count": null,
      "outputs": [
        {
          "output_type": "execute_result",
          "data": {
            "text/plain": [
              "1"
            ]
          },
          "metadata": {},
          "execution_count": 45
        }
      ]
    },
    {
      "cell_type": "code",
      "source": [
        "tensor = tf.constant([[10, 7], [3, 4]])\n",
        "tensor+19\n",
        "tensor_copy = tensor+80 # like addition we can do all BDMAS Operations on it.\n",
        "# multiplication using tensorflow method\n",
        "\n",
        "tensor_mul = tf.multiply(tensor,10)\n",
        "tensor_mul\n"
      ],
      "metadata": {
        "colab": {
          "base_uri": "https://localhost:8080/"
        },
        "id": "EEOcHaAO7CgN",
        "outputId": "4ee53272-34b6-41f9-fd43-3797ac0be496"
      },
      "execution_count": null,
      "outputs": [
        {
          "output_type": "execute_result",
          "data": {
            "text/plain": [
              "<tf.Tensor: shape=(2, 2), dtype=int32, numpy=\n",
              "array([[100,  70],\n",
              "       [ 30,  40]], dtype=int32)>"
            ]
          },
          "metadata": {},
          "execution_count": 55
        }
      ]
    },
    {
      "cell_type": "code",
      "source": [
        "matrix_1 = tf.constant([1,2,3,4,5,6,7,8,9,10,11,12,13,14,15],shape=(5,3))  \n",
        "matrix_2 = tf.constant([43,12,54,32,43,65,77,54,53,76,34,65,43,23,43], shape=(3,5))\n",
        "\n",
        "tf.matmul(matrix_1,matrix_2)"
      ],
      "metadata": {
        "colab": {
          "base_uri": "https://localhost:8080/"
        },
        "id": "CqTiu2_c781u",
        "outputId": "19273759-0c49-4e6b-c585-3e11f0b9457d"
      },
      "execution_count": null,
      "outputs": [
        {
          "output_type": "execute_result",
          "data": {
            "text/plain": [
              "<tf.Tensor: shape=(5, 5), dtype=int32, numpy=\n",
              "array([[ 275,  361,  291,  207,  324],\n",
              "       [ 701,  823,  744,  531,  810],\n",
              "       [1127, 1285, 1197,  855, 1296],\n",
              "       [1553, 1747, 1650, 1179, 1782],\n",
              "       [1979, 2209, 2103, 1503, 2268]], dtype=int32)>"
            ]
          },
          "metadata": {},
          "execution_count": 62
        }
      ]
    }
  ]
}