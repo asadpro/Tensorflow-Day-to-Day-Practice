{
  "nbformat": 4,
  "nbformat_minor": 0,
  "metadata": {
    "colab": {
      "name": "Day_2_practice.ipynb",
      "provenance": [],
      "collapsed_sections": [],
      "authorship_tag": "ABX9TyPvneD39fAmPQbDhxo3JujL",
      "include_colab_link": true
    },
    "kernelspec": {
      "name": "python3",
      "display_name": "Python 3"
    },
    "language_info": {
      "name": "python"
    }
  },
  "cells": [
    {
      "cell_type": "markdown",
      "metadata": {
        "id": "view-in-github",
        "colab_type": "text"
      },
      "source": [
        "<a href=\"https://colab.research.google.com/github/asadpro/Tensorflow-Day-to-Day-Practice/blob/main/Day_2_practice.ipynb\" target=\"_parent\"><img src=\"https://colab.research.google.com/assets/colab-badge.svg\" alt=\"Open In Colab\"/></a>"
      ]
    },
    {
      "cell_type": "code",
      "execution_count": null,
      "metadata": {
        "id": "zGhtnqgDvvHP"
      },
      "outputs": [],
      "source": [
        "import tensorflow as tf\n",
        "import numpy as np\n",
        "\n",
        "# Tensor multiplication with @ symbol\n",
        "tensor_1 = tf.constant([[3,4],[7,9]])\n",
        "tensor_2 = tf.constant([[3,2],[6,8]])\n",
        "\n",
        "tensor_1 @ tensor_2"
      ]
    },
    {
      "cell_type": "markdown",
      "source": [
        "## Taking transpose of mismatch matrix and then do multiplication or we can also reshape the tensors to solve the same problem.\n",
        "\n",
        "**[Matrix multiplication](https://www.mathsisfun.com/algebra/matrix-multiplying.html)**\n",
        "- *#Matrix multiplication with Python operator '@'*\n"
      ],
      "metadata": {
        "id": "FlUqgStp3tAC"
      }
    },
    {
      "cell_type": "code",
      "source": [
        "# First try transposing the tensor\n",
        "# Create (3, 2) tensor\n",
        "x = tf.constant([[1, 2],\n",
        "                 [3, 4],\n",
        "                 [5, 6]])\n",
        "\n",
        "# Create another (3, 2) tensor\n",
        "y = tf.constant([[7, 8],\n",
        "                 [9, 10],\n",
        "                 [11, 12]])\n",
        "x = tf.transpose(x) # We take tranpose of one matrix to make the inner dimension equal:\n",
        "x @ y"
      ],
      "metadata": {
        "id": "F9w6dIsM2-xS"
      },
      "execution_count": null,
      "outputs": []
    },
    {
      "cell_type": "code",
      "source": [
        "# Now solve the above problem by reshaping the matrix\n",
        "x = tf.constant([[1, 2],\n",
        "                 [3, 4],\n",
        "                 [5, 6]])\n",
        "\n",
        "# Create another (3, 2) tensor\n",
        "y = tf.constant([[7, 8],\n",
        "                 [9, 10],\n",
        "                 [11, 12]])\n",
        "\n",
        "x = tf.reshape(x,shape=(2,3)) \n",
        "x@y"
      ],
      "metadata": {
        "id": "1DsU0hVXBccm"
      },
      "execution_count": null,
      "outputs": []
    },
    {
      "cell_type": "code",
      "source": [
        "# We can achieve the same result as above with parameters\n",
        "t1 = tf.constant([[1, 2],\n",
        "                 [3, 4],\n",
        "                 [5, 6]])\n",
        "\n",
        "t2 = tf.constant([[7, 8],\n",
        "                 [9, 10],\n",
        "                 [11, 12]])\n",
        "\n",
        "tf.matmul(t1,t2,transpose_a=True, transpose_b=False)"
      ],
      "metadata": {
        "id": "2P0AQk2lCGGn"
      },
      "execution_count": null,
      "outputs": []
    },
    {
      "cell_type": "code",
      "source": [
        "# Tensor multiplication using tensordot method\n",
        "t3 = tf.constant([\n",
        "                  [2,3],\n",
        "                  [3,3]\n",
        "                  \n",
        "                  ])\n",
        "t4 = tf.constant([\n",
        "                  [4,5],\n",
        "                  [5,5]\n",
        "                  \n",
        "                  ])\n",
        "tf.tensordot(t3,t4,axes=1)\n",
        "\n"
      ],
      "metadata": {
        "id": "xL-cocoODPbv"
      },
      "execution_count": null,
      "outputs": []
    },
    {
      "cell_type": "markdown",
      "source": [
        "# **Markdown commands to use**\n",
        "<code> Code snippet </code><br>\n",
        "- Hello\n",
        "- World \n",
        "* Hi Flutter\n",
        "  * Welcome pro\n",
        "  * I am linux\n",
        "    * The OS\n",
        "\n",
        "  >This is a blockquote\n",
        "# Heading 1\n",
        "## Heading 2\n",
        "### Heading 3\n",
        "#### Heading 4\n",
        "##### Heading 5\n",
        "###### Heading 6\n",
        "```\n",
        "Print('Hello tensorflow')\n",
        "Print('Hello tensorflow')\n",
        "Print('Hello tensorflow')\n",
        "```\n",
        "\n",
        "- [x] Write the press release\n",
        "- [ ] Update the website\n",
        "- [ ] Contact the media<br>\n",
        "\n",
        "~~The world is flat.~~ We now know that the world is round.\n",
        "Gone camping! :tent: Be back soon.<br>\n",
        "## We can add emoji directly from copying like from emojipedia 😗 \n",
        "\n",
        "I need to highlight these <mark>very important words</mark>.\n",
        "\n",
        "H<sub>2</sub>O <br>\n",
        "H<sup>2</sup>O <br>\n",
        "[Click on site](http://www.google.com)\n"
      ],
      "metadata": {
        "id": "QE8ZJtoD6Lwj"
      }
    },
    {
      "cell_type": "code",
      "source": [
        "# Create a new tensor with default datatype (float32)\n",
        "b = tf.constant([1.7, 7.4])\n",
        "\n",
        "# Create a new tensor with default datatype (int32)\n",
        "c = tf.constant([1, 7])\n",
        "b,c\n"
      ],
      "metadata": {
        "id": "w4-3ZiCP34p5"
      },
      "execution_count": null,
      "outputs": []
    },
    {
      "cell_type": "code",
      "source": [
        "from numpy import float16\n",
        "b = tf.dtypes.cast(b,dtype=float16)\n",
        "b.dtype"
      ],
      "metadata": {
        "id": "FjD3TGLyXXp8"
      },
      "execution_count": null,
      "outputs": []
    },
    {
      "cell_type": "markdown",
      "source": [
        "##**SparseTensor vs Tensor**\n",
        "- When a tensor contain many zeros like below tensor then it's called sparseTensor.\n",
        "- Tensor are the simple tensor which contain some numerical values.\n",
        "### **Why we need SparseTensor**\n",
        "- SparseTensor is needed when we have an image which contain lots of dark pixel which is detoned by zero so we simply mitigate those dark pixel denoted by zero and take the actual values and their corresponding indices and shape which reduce computation time of our GPU instead of calculating the zeros values also.\n",
        "![SparseTensor](https://i.stack.imgur.com/8J9Uo.jpg)<br>\n",
        "[Explore SparseTensor Further](https://stackoverflow.com/questions/47662143/what-is-the-difference-between-tensors-and-sparse-tensors)\n"
      ],
      "metadata": {
        "id": "5rr447Q7bJKY"
      }
    },
    {
      "cell_type": "code",
      "source": [
        "# [0, 7, 0, 0, 8, 0, 0, 0, 0]\n",
        "x = tf.SparseTensor(values=[7,8],indices=[[1],[4]],dense_shape=[9])\n",
        "print(x)"
      ],
      "metadata": {
        "id": "EzAmrBrvaIww"
      },
      "execution_count": null,
      "outputs": []
    },
    {
      "cell_type": "code",
      "source": [
        "# Finding sum, min, max, mean of a tensor\n",
        "tensor = tf.constant(np.random.randint(low=0,high=100,size=50))\n",
        "prod = tf.constant([[2,3],[2,8]])\n",
        "\n",
        "print(f'Minimum of tensor: ',tf.reduce_min(tensor).numpy())\n",
        "print(f'Maximum of tensor: ',tf.reduce_max(tensor).numpy())\n",
        "print(f'Sum of tensor: ',tf.reduce_sum(tensor).numpy())\n",
        "print(f'Mean of tensor: ',tf.reduce_mean(tensor).numpy())\n",
        "print(f'Product of tensor: ',tf.reduce_prod(prod).numpy())\n",
        "\n",
        "# Find the maximum element position of tensor element\n",
        "\n",
        "print(f'Index of maximum value in a tensor: ',tf.argmax(tensor).numpy())\n",
        "print(f'Index of minimum value in a tensor: ',tf.argmin(tensor).numpy())\n"
      ],
      "metadata": {
        "id": "HCIJmYQrdkSn"
      },
      "execution_count": null,
      "outputs": []
    },
    {
      "cell_type": "markdown",
      "source": [
        "## Squeezing the tensor and removing all single dimensions from a tensor."
      ],
      "metadata": {
        "id": "2VjnprTqjNu7"
      }
    },
    {
      "cell_type": "code",
      "source": [
        "# Reshaping the tensor 5D to 1D by using squeeze method\n",
        "squeeze = tf.constant(np.random.randint(0, 100, 50), shape=(1, 1, 1, 1, 50))\n",
        "squeezed = tf.squeeze(squeeze)\n",
        "squeezed.ndim"
      ],
      "metadata": {
        "id": "J9BW2uG9i_LD"
      },
      "execution_count": null,
      "outputs": []
    },
    {
      "cell_type": "code",
      "source": [
        "# Reshaping the tensor from 5D to 1D by using reshaped method -1\n",
        "\n",
        "reshape = tf.reshape(squeeze,shape=(-1))\n",
        "reshape.ndim"
      ],
      "metadata": {
        "id": "E_SyudOLkx9E"
      },
      "execution_count": null,
      "outputs": []
    },
    {
      "cell_type": "markdown",
      "source": [
        "## **One-hot encoding** is needed when you want to convert categorical data in 0 and 1 format. Categorical input feature are convert into numerical encoding before feed it to the neural network."
      ],
      "metadata": {
        "id": "xyJM2QJOq8-z"
      }
    },
    {
      "cell_type": "code",
      "source": [
        "# One hot encoding is need. Let's take an example catergorical data\n",
        "rollNo = [1,3,2,4]\n",
        "tf.one_hot(rollNo,depth=len(rollNo))\n",
        "\n"
      ],
      "metadata": {
        "id": "YVzSDg5Xq5_D"
      },
      "execution_count": null,
      "outputs": []
    },
    {
      "cell_type": "code",
      "source": [
        "# tf.fill() method will fill the tensor with scalar value\n",
        "\n",
        "scalar = tf.fill([3,3],4)\n",
        "scalar\n"
      ],
      "metadata": {
        "id": "-DtAdwpEs4T0"
      },
      "execution_count": null,
      "outputs": []
    },
    {
      "cell_type": "code",
      "source": [
        "\n",
        "square_tensor = tf.constant([1.2,4.2,6.2])\n",
        "\n",
        "print('Square of tensor: ',tf.square(square_tensor).numpy())\n",
        "print('Log of tensor: ',tf.math.log(100.0).numpy())\n",
        "print('SquareRoot of tensor: ',tf.sqrt(square_tensor).numpy())\n"
      ],
      "metadata": {
        "id": "VsP-gq-dxRus"
      },
      "execution_count": null,
      "outputs": []
    },
    {
      "cell_type": "markdown",
      "source": [
        "## **Manipulating `tf.Variable` tensors**\n",
        "### We have discuss two method **`assign`** and **`assign_add`** both of these methods have their own use look at the below practical implementation:\n",
        "> ### 💡 we can convert tensor into numpy array as well like => tensor.numpy()"
      ],
      "metadata": {
        "id": "hkbphFC35KN3"
      }
    },
    {
      "cell_type": "code",
      "source": [
        "# assign method add a new value to the existing value in a tensor\n",
        "changeable = tf.Variable([1,2,3,4])\n",
        "\n",
        "changeable[0].assign(11)\n",
        "\n",
        "# assign_add method add 10 with every element inside of tensor but shape of both tensors must be the same.\n",
        "new = tf.constant([10,10,10,10]) \n",
        "changeable.assign_add(new)\n",
        "new.numpy()\n"
      ],
      "metadata": {
        "id": "CfiwWccz5GuQ"
      },
      "execution_count": null,
      "outputs": []
    },
    {
      "cell_type": "code",
      "source": [
        "# Create two tensors containing random values between 0 and 1 with shape [5, 300].\n",
        "t1 = tf.random.uniform(minval=0,maxval=1,shape=(5,300))\n",
        "t2 = tf.random.uniform(minval=0,maxval=1,shape=(5,300))\n",
        "\n",
        "# Multiply the two tensors you created in 3 using matrix multiplication.\n",
        "\n",
        "tensor_mul = tf.tensordot(t1,t2,axes=0)\n",
        "resul1 = tf.matmul(tf.transpose(t1),t2)\n"
      ],
      "metadata": {
        "id": "W3-g0XBL-hiK"
      },
      "execution_count": null,
      "outputs": []
    },
    {
      "cell_type": "code",
      "source": [
        "# Create a tensor with random values between 0 and 1 with shape [224, 224, 3].\n",
        "t3 = tf.random.uniform(minval=0,maxval=1,shape=(224, 224, 3))\n",
        "min = tf.argmin(t3)\n",
        "max = tf.argmax(t3)\n",
        "\n",
        "print('Minimum value : ',min)\n",
        "print('Maximum value : ',max)\n"
      ],
      "metadata": {
        "id": "IwM3MxUYE6yr"
      },
      "execution_count": null,
      "outputs": []
    },
    {
      "cell_type": "code",
      "source": [
        "# Created a tensor with random values of shape [1, 224, 224, 3] then squeeze it to change the shape to [224, 224, 3].\n",
        "\n",
        "random_tensor = tf.random.Generator.from_seed(42)\n",
        "random_tensor = random_tensor.normal(shape=(1, 224, 224, 3))\n",
        "random_tensor\n",
        "\n",
        "# Squeezing the above tensor to remove single-dimension from it.\n",
        "\n",
        "tf.squeeze(random_tensor).shape"
      ],
      "metadata": {
        "colab": {
          "base_uri": "https://localhost:8080/"
        },
        "id": "1ChjxmyKFwQa",
        "outputId": "3c916e23-0fe0-4f74-c91e-87ffbaf07e1a"
      },
      "execution_count": null,
      "outputs": [
        {
          "output_type": "execute_result",
          "data": {
            "text/plain": [
              "TensorShape([224, 224, 3])"
            ]
          },
          "metadata": {},
          "execution_count": 151
        }
      ]
    },
    {
      "cell_type": "code",
      "source": [
        "from numpy import int16\n",
        "# Create a tensor with shape [10] using your own choice of values, then find the index which has the maximum value.\n",
        "last_tensor = tf.constant([5,3,2,1,6,7,8,9,10,2])\n",
        "tf.argmax(last_tensor)\n",
        "\n",
        "\n",
        "# One-hot encode the tensor you created in 9.\n",
        "tf.one_hot(last_tensor,depth=10,dtype=int16)\n"
      ],
      "metadata": {
        "colab": {
          "base_uri": "https://localhost:8080/"
        },
        "id": "27xNtXKaHEeU",
        "outputId": "e97db973-04c2-4337-e2da-7145db776003"
      },
      "execution_count": null,
      "outputs": [
        {
          "output_type": "execute_result",
          "data": {
            "text/plain": [
              "<tf.Tensor: shape=(10, 10), dtype=int16, numpy=\n",
              "array([[0, 0, 0, 0, 0, 1, 0, 0, 0, 0],\n",
              "       [0, 0, 0, 1, 0, 0, 0, 0, 0, 0],\n",
              "       [0, 0, 1, 0, 0, 0, 0, 0, 0, 0],\n",
              "       [0, 1, 0, 0, 0, 0, 0, 0, 0, 0],\n",
              "       [0, 0, 0, 0, 0, 0, 1, 0, 0, 0],\n",
              "       [0, 0, 0, 0, 0, 0, 0, 1, 0, 0],\n",
              "       [0, 0, 0, 0, 0, 0, 0, 0, 1, 0],\n",
              "       [0, 0, 0, 0, 0, 0, 0, 0, 0, 1],\n",
              "       [0, 0, 0, 0, 0, 0, 0, 0, 0, 0],\n",
              "       [0, 0, 1, 0, 0, 0, 0, 0, 0, 0]], dtype=int16)>"
            ]
          },
          "metadata": {},
          "execution_count": 158
        }
      ]
    },
    {
      "cell_type": "code",
      "source": [
        "values = [1, 10, 26.9, 2.8, 166.32, 62.3]\n",
        "sorted = tf.argsort(values,direction='DESCENDING',)\n",
        "sorted"
      ],
      "metadata": {
        "colab": {
          "base_uri": "https://localhost:8080/"
        },
        "id": "1HULS_jFIOw9",
        "outputId": "f3e93a5d-a633-4c3d-817c-47eaa419d387"
      },
      "execution_count": null,
      "outputs": [
        {
          "output_type": "execute_result",
          "data": {
            "text/plain": [
              "<tf.Tensor: shape=(6,), dtype=int32, numpy=array([4, 5, 2, 1, 3, 0], dtype=int32)>"
            ]
          },
          "metadata": {},
          "execution_count": 160
        }
      ]
    },
    {
      "cell_type": "code",
      "source": [
        "mnist = tf.keras.datasets.mnist\n",
        "\n",
        "(x_train, y_train), (x_test, y_test) = mnist.load_data()\n",
        "x_train, x_test = x_train / 255.0, x_test / 255.0"
      ],
      "metadata": {
        "id": "o7yKhnJwJAJW"
      },
      "execution_count": null,
      "outputs": []
    },
    {
      "cell_type": "code",
      "source": [
        "# Creating a model for minist dataset\n",
        "model = tf.keras.models.Sequential()\n",
        "model.add(tf.keras.layers.Flatten(input_shape=(28,28)))\n",
        "model.add(tf.keras.layers.Dense(128,activation='relu',))\n",
        "model.add(tf.keras.layers.Dropout(0.2))\n",
        "model.add(tf.keras.layers.Dense(10))"
      ],
      "metadata": {
        "id": "hu3Nx_CRKDZ-"
      },
      "execution_count": null,
      "outputs": []
    },
    {
      "cell_type": "code",
      "source": [
        "predictions = model(x_train[:1]).numpy()\n",
        "predictions\n"
      ],
      "metadata": {
        "colab": {
          "base_uri": "https://localhost:8080/"
        },
        "id": "Jstb8DsvLmwX",
        "outputId": "d58e74ad-e6b9-4e61-823b-653f85f68d10"
      },
      "execution_count": null,
      "outputs": [
        {
          "output_type": "execute_result",
          "data": {
            "text/plain": [
              "array([[-0.46107742, -0.35958225,  0.12863302,  0.39512253,  0.26128218,\n",
              "         0.29148144,  0.45146337, -0.21050139,  0.0617248 , -0.10353111]],\n",
              "      dtype=float32)"
            ]
          },
          "metadata": {},
          "execution_count": 180
        }
      ]
    },
    {
      "cell_type": "code",
      "source": [
        "tf.nn.softmax(predictions).numpy()"
      ],
      "metadata": {
        "colab": {
          "base_uri": "https://localhost:8080/"
        },
        "id": "v1iWwacJLwUq",
        "outputId": "9e73b182-0494-4ac7-f7f7-ab6161a68d0d"
      },
      "execution_count": null,
      "outputs": [
        {
          "output_type": "execute_result",
          "data": {
            "text/plain": [
              "array([[0.05767621, 0.06383745, 0.10401709, 0.1357812 , 0.11877184,\n",
              "        0.12241337, 0.14365083, 0.07410039, 0.09728522, 0.08246642]],\n",
              "      dtype=float32)"
            ]
          },
          "metadata": {},
          "execution_count": 181
        }
      ]
    },
    {
      "cell_type": "code",
      "source": [
        "loss_fn = tf.keras.losses.SparseCategoricalCrossentropy(from_logits=True)\n",
        "loss_fn\n",
        "loss_fn(y_train[:1], predictions).numpy()"
      ],
      "metadata": {
        "colab": {
          "base_uri": "https://localhost:8080/"
        },
        "id": "upyCvqb0L912",
        "outputId": "dea28fe8-a47e-4954-8e0d-eaf7046e948c"
      },
      "execution_count": null,
      "outputs": [
        {
          "output_type": "execute_result",
          "data": {
            "text/plain": [
              "2.1003516"
            ]
          },
          "metadata": {},
          "execution_count": 188
        }
      ]
    },
    {
      "cell_type": "code",
      "source": [
        "model.compile(optimizer='Adam',loss=loss_fn,metrics=['accuracy'])\n",
        "model.fit(x_train,y_train,epochs=5)"
      ],
      "metadata": {
        "colab": {
          "base_uri": "https://localhost:8080/"
        },
        "id": "4fhY_qdCMQeG",
        "outputId": "6a2b2be6-1631-43c8-be99-abc08949db38"
      },
      "execution_count": null,
      "outputs": [
        {
          "output_type": "stream",
          "name": "stdout",
          "text": [
            "Epoch 1/5\n",
            "1875/1875 [==============================] - 7s 3ms/step - loss: 0.1354 - accuracy: 0.9607\n",
            "Epoch 2/5\n",
            "1875/1875 [==============================] - 4s 2ms/step - loss: 0.1007 - accuracy: 0.9690\n",
            "Epoch 3/5\n",
            "1875/1875 [==============================] - 4s 2ms/step - loss: 0.0852 - accuracy: 0.9736\n",
            "Epoch 4/5\n",
            "1875/1875 [==============================] - 4s 2ms/step - loss: 0.0718 - accuracy: 0.9777\n",
            "Epoch 5/5\n",
            "1875/1875 [==============================] - 4s 2ms/step - loss: 0.0628 - accuracy: 0.9803\n"
          ]
        },
        {
          "output_type": "execute_result",
          "data": {
            "text/plain": [
              "<keras.callbacks.History at 0x7fbf8b7f0fd0>"
            ]
          },
          "metadata": {},
          "execution_count": 192
        }
      ]
    },
    {
      "cell_type": "code",
      "source": [
        "model.evaluate(x_test,y_test,verbose=2)"
      ],
      "metadata": {
        "colab": {
          "base_uri": "https://localhost:8080/"
        },
        "id": "m_xR0VTdM2n_",
        "outputId": "957a2521-2b09-45e1-dd0b-e77203eb07bc"
      },
      "execution_count": null,
      "outputs": [
        {
          "output_type": "stream",
          "name": "stdout",
          "text": [
            "313/313 - 1s - loss: 0.0756 - accuracy: 0.9785 - 581ms/epoch - 2ms/step\n"
          ]
        },
        {
          "output_type": "execute_result",
          "data": {
            "text/plain": [
              "[0.07563818246126175, 0.9785000085830688]"
            ]
          },
          "metadata": {},
          "execution_count": 194
        }
      ]
    }
  ]
}