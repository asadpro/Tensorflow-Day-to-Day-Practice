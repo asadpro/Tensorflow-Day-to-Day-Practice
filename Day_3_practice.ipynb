{
  "nbformat": 4,
  "nbformat_minor": 0,
  "metadata": {
    "colab": {
      "name": "Day_3_practice.ipynb",
      "provenance": [],
      "authorship_tag": "ABX9TyOD6lLS4gRntvrsWaap67FU",
      "include_colab_link": true
    },
    "kernelspec": {
      "name": "python3",
      "display_name": "Python 3"
    },
    "language_info": {
      "name": "python"
    }
  },
  "cells": [
    {
      "cell_type": "markdown",
      "metadata": {
        "id": "view-in-github",
        "colab_type": "text"
      },
      "source": [
        "<a href=\"https://colab.research.google.com/github/asadpro/Tensorflow-Day-to-Day-Practice/blob/main/Day_3_practice.ipynb\" target=\"_parent\"><img src=\"https://colab.research.google.com/assets/colab-badge.svg\" alt=\"Open In Colab\"/></a>"
      ]
    },
    {
      "cell_type": "code",
      "execution_count": null,
      "metadata": {
        "id": "BqBgGldVDdx3"
      },
      "outputs": [],
      "source": [
        "import tensorflow as tf\n",
        "import numpy as np\n",
        "import matplotlib.pyplot as plt\n",
        "\n",
        "# Create features\n",
        "x_axis = np.array([-7.0, -4.0, -1.0, 2.0, 5.0, 8.0, 11.0, 14.0])\n",
        "\n",
        "# Create labels\n",
        "y_axis = np.array([3.0, 6.0, 9.0, 12.0, 15.0, 18.0, 21.0, 24.0])\n",
        "\n",
        "plt.scatter(x_axis,y_axis)"
      ]
    },
    {
      "cell_type": "markdown",
      "source": [
        "### **Draw a line in a diagram from position (0,0) to position (6,250):**\n",
        "-  We are using the plot method to draw a 2D hexagonal binning plot (a type of plot in Grid form for more info [Click](https://datavizproject.com/wp-content/uploads/2016/06/DVP_1_100-92.png)<br>\n",
        "<font size='5' color='red' > 🛠 <b>Note</b>: When defining both of the arrays of x-cordinates and y-cordinates shape of both of them should be equal </font>\n"
      ],
      "metadata": {
        "id": "v9b-iHyzS6ql"
      }
    },
    {
      "cell_type": "code",
      "source": [
        "#Creating datapoints\n",
        "data = np.array([0,5,6,8,9,200])\n",
        "\n",
        "#Creating labels\n",
        "label = np.array([0,10,39,59,79,250])\n",
        "\n",
        "plt.plot(data,label,marker='*', ms=29,mec='r',mfc = 'g',linestyle='dashed',color='g',linewidth=12,)  # at the end this is ms(short for marker size)\n",
        "plt.show() # show() method show us all the figures when completed.\n"
      ],
      "metadata": {
        "id": "Fw-f5EhHSc_8"
      },
      "execution_count": null,
      "outputs": []
    },
    {
      "cell_type": "markdown",
      "source": [
        "<font size=5 color='pink'> Drawing separate line for both x and y cordinate</font>"
      ],
      "metadata": {
        "id": "xVIv7AJ4acMe"
      }
    },
    {
      "cell_type": "code",
      "source": [
        "y1 = np.array([3, 8, 1, 10])\n",
        "y2 = np.array([6, 2, 7, 11])\n",
        "\n",
        "plt.plot(y1)\n",
        "plt.plot(y2)\n",
        "\n",
        "plt.show()"
      ],
      "metadata": {
        "id": "TEw95msrR9g7"
      },
      "execution_count": null,
      "outputs": []
    },
    {
      "cell_type": "markdown",
      "source": [
        "## Creating a grid chart and specifying the title and xlabel, ylabel."
      ],
      "metadata": {
        "id": "NzQMdbkEcGr3"
      }
    },
    {
      "cell_type": "code",
      "source": [
        "x = np.array([80, 85, 90, 95, 100, 105, 110, 115, 120, 125])\n",
        "\n",
        "y = np.array([240, 250, 260, 270, 280, 290, 300, 310, 320, 330])\n",
        "\n",
        "plt.title('Sports Watch Data')\n",
        "plt.xlabel('Average Pulse')\n",
        "plt.ylabel('Calorie Burnage')\n",
        "\n",
        "plt.plot(x,y,c='purple')\n",
        "plt.grid(axis='x',linestyle='dotted',c='red',) # show only x-axis (default both) \n",
        "plt.show()"
      ],
      "metadata": {
        "id": "3zmdCsJOa0ze"
      },
      "execution_count": null,
      "outputs": []
    },
    {
      "cell_type": "markdown",
      "source": [
        "## Creating two subplots into one graph"
      ],
      "metadata": {
        "id": "8c8IkbMMcQHV"
      }
    },
    {
      "cell_type": "code",
      "source": [
        "# Creating 1st subplot\n",
        "a_data = np.array([14,25,36,39])\n",
        "b_label = np.array([0,1,2,3])\n",
        "plt.suptitle('My Shop',color='White', size=24,weight='bold',verticalalignment = 'center')\n",
        "\n",
        "plt.subplot(1,2,1)\n",
        "plt.plot(a_data,b_label)\n",
        "plt.title('Graph 1',color='red',weight='bold')\n",
        "\n",
        "# Creating 2nd subplot\n",
        "\n",
        "a_data = np.array([10,20,30,40])\n",
        "b_label = np.array([0,1,2,3])\n",
        "\n",
        "plt.subplot(1,2,2)\n",
        "plt.plot(a_data,b_label)\n",
        "plt.title('Graph 2',color='green',weight='bold')\n",
        "plt.show()\n",
        "\n",
        "\n",
        "\n"
      ],
      "metadata": {
        "id": "m7PkKYbHfB9O"
      },
      "execution_count": null,
      "outputs": []
    },
    {
      "cell_type": "markdown",
      "source": [
        "### **Creating scatter plot which basically scattered all the observations**\n",
        "  -  Scatter plot require two arrays/ tensor of same size one for x-axis & and one for y-axis."
      ],
      "metadata": {
        "id": "7F4_L9TRjRu_"
      }
    },
    {
      "cell_type": "code",
      "source": [
        "x_scatter = np.array([5,7,8,7,2,17,2,9,4,11,12,9,6])\n",
        "y_scatter = np.array([99,86,87,88,111,86,103,87,94,78,77,85,86])\n",
        "\n",
        "plt.scatter(x_scatter,y_scatter,marker='*', c='r',lw=121)\n",
        "plt.show()"
      ],
      "metadata": {
        "id": "ZEl9Wy8KjEsS"
      },
      "execution_count": null,
      "outputs": []
    },
    {
      "cell_type": "markdown",
      "source": [
        "## Comparing cars model with their speed.\n",
        "- <font size=5 > Passing colors list to the scatter plot.\n",
        "- Color list length must be equal to the length of x-axis & y-axis.\n",
        "</font>"
      ],
      "metadata": {
        "id": "AzHDOWsD1gEM"
      }
    },
    {
      "cell_type": "code",
      "source": [
        "#day one, the age and speed of 13 cars:\n",
        "\n",
        "\n",
        "x = np.array([5,7,8,7,2,17,2,9,4,11,12,9,6])\n",
        "y = np.array([99,86,87,88,111,86,103,87,94,78,77,85,86])\n",
        "colors = np.array([\"maroon\",\"green\",\"blue\",\"yellow\",\"pink\",\"black\",\"orange\",\"purple\",\"beige\",\"brown\",\"gray\",\"cyan\",\"magenta\"])\n",
        "plt.scatter(x,y,c=colors)\n",
        "\n",
        "#day two, the age and speed of 15 cars:\n",
        "x = np.array([2,2,8,1,15,8,12,9,7,3,11,4,7,14,12])\n",
        "y = np.array([100,105,84,105,90,99,90,95,94,100,79,112,91,80,85])\n",
        "\n",
        "plt.scatter(x,y,c='r')\n",
        "plt.title('Comparing Cars',c='g',weight='bold')\n",
        "\n",
        "plt.show()"
      ],
      "metadata": {
        "id": "UxAJHE7K3QFK"
      },
      "execution_count": null,
      "outputs": []
    },
    {
      "cell_type": "markdown",
      "source": [
        "## **Creating colormaps**\n",
        "<font size=4>**For creating colors go on to this page for further information** => [Click me](https://www.w3schools.com/python/matplotlib_scatter.asp#:~:text=How%20to%20Use,the%20scatter%20plot%3A)<font/>"
      ],
      "metadata": {
        "id": "TduHUDx66A2E"
      }
    },
    {
      "cell_type": "code",
      "source": [
        "x = np.array([5,7,8,7,2,17,2,9,4,11,12,9,6])\n",
        "y = np.array([99,86,87,88,111,86,103,87,94,78,77,85,86])\n",
        "colors = np.array([0, 10, 20, 30, 40, 45, 50, 55, 60, 70, 80, 90, 100])\n",
        "sizes = np.array([20,50,100,200,500,1000,60,90,10,300,600,800,75]) # giving size to every observation point\n",
        "\n",
        "plt.scatter(x,y,cmap='Accent',c=colors,s=sizes,alpha=0.5) # With alpha we can adjust the transparency of elements. \n",
        "plt.colorbar() # for showing colorbar on right side.\n",
        "plt.show()\n"
      ],
      "metadata": {
        "id": "de-V7jN03rtj"
      },
      "execution_count": null,
      "outputs": []
    },
    {
      "cell_type": "markdown",
      "source": [
        "## Creating a bar of algorithms with their respective accuracy.\n",
        "<font size=4 color='red'>We have two types of bars:\n",
        "1. plt.bar()\n",
        "2. plt.barh() # Horizontal bar</font>"
      ],
      "metadata": {
        "id": "-ou8KBoC8raU"
      }
    },
    {
      "cell_type": "code",
      "source": [
        "# Plot 1\n",
        "accuracy = [98,88,68,77,92]\n",
        "algorithm = ['CNN','ANN','PNN','KNN','RF']\n",
        "colors = np.array([\"maroon\",\"green\",\"blue\",\"yellow\",\"pink\"])\n",
        "plt.subplot(1,2,1)\n",
        "plt.title('Vertical Bar',c='g',weight='bold')\n",
        "plt.bar(algorithm,accuracy,color=colors)\n",
        "\n",
        "# Plot 2\n",
        "accuracy = [98,88,68,77,92]\n",
        "algorithm = ['CNN','ANN','PNN','KNN','RF']\n",
        "colors = np.array([\"maroon\",\"green\",\"blue\",\"yellow\",\"pink\"])\n",
        "plt.subplot(1,2,2)\n",
        "plt.title('Horizontal Bar',c='g',weight='bold')\n",
        "plt.barh(algorithm,accuracy,color=colors)\n",
        "plt.show()\n",
        "\n",
        "\n"
      ],
      "metadata": {
        "id": "x1v4nBWA80cM"
      },
      "execution_count": null,
      "outputs": []
    },
    {
      "cell_type": "markdown",
      "source": [
        "## **Matplotlib Pie Charts**"
      ],
      "metadata": {
        "id": "w1BeURJBEQgX"
      }
    },
    {
      "cell_type": "code",
      "source": [
        "y = np.array([35, 25, 25, 15])\n",
        "colors = ['yellow','pink','purple','cyan']\n",
        "labels = ['yellow','pink','purple','cyan']\n",
        "plt.pie(y,colors=colors,shadow=True,radius=3,labels=labels) # We can increase the size of the plot using radius\n",
        "plt.legend(title='Four Colors')\n",
        "plt.show()"
      ],
      "metadata": {
        "id": "9JRpivzaEVdu"
      },
      "execution_count": null,
      "outputs": []
    },
    {
      "cell_type": "code",
      "source": [
        ""
      ],
      "metadata": {
        "id": "jY5fZMOEfX9q"
      },
      "execution_count": null,
      "outputs": []
    }
  ]
}